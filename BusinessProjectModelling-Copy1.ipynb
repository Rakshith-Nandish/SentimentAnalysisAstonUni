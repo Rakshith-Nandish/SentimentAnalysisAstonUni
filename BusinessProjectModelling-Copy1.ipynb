{
 "cells": [
  {
   "cell_type": "code",
   "execution_count": 419,
   "id": "0cf2968a",
   "metadata": {},
   "outputs": [],
   "source": [
    "import numpy as np\n",
    "import pandas as pd\n",
    "import seaborn as sns\n",
    "import matplotlib.pyplot as plt\n",
    "import re\n",
    "from sklearn.model_selection import StratifiedShuffleSplit\n",
    "from sklearn.model_selection import train_test_split\n",
    "from sklearn.pipeline import Pipeline\n",
    "from imblearn.pipeline import Pipeline as PipelineImblearn\n",
    "from sklearn.metrics import classification_report\n",
    "from sklearn.model_selection import GridSearchCV\n",
    "from sklearn.svm import SVC\n",
    "from sklearn.metrics import balanced_accuracy_score\n",
    "\n",
    "from sklearn.feature_extraction.text import CountVectorizer\n",
    "from sklearn.feature_extraction.text import TfidfVectorizer\n",
    "from sklearn.naive_bayes import MultinomialNB\n",
    "from sklearn.metrics import recall_score, precision_score, f1_score, accuracy_score\n",
    "from sklearn.metrics import precision_recall_fscore_support\n",
    "from sklearn.metrics import confusion_matrix, ConfusionMatrixDisplay\n",
    "#from gensim.models import Word2Vec\n",
    "from imblearn.over_sampling  import RandomOverSampler\n",
    "import gensim\n",
    "from sklearn.ensemble import RandomForestClassifier\n",
    "from sklearn.tree import DecisionTreeClassifier\n",
    "from sklearn.linear_model import LogisticRegression\n",
    "from imblearn.over_sampling import SMOTE\n",
    "import tensorflow as tf\n",
    "from transformers import BertTokenizer, TFBertForSequenceClassification\n",
    "from transformers import InputExample, InputFeatures\n",
    "import warnings\n",
    "import time\n",
    "import pickle\n",
    "from sklearn.preprocessing import MinMaxScaler\n",
    "from sklearn.metrics import balanced_accuracy_score\n",
    "from sklearn.metrics import matthews_corrcoef"
   ]
  },
  {
   "cell_type": "code",
   "execution_count": 264,
   "id": "fb1ea3dd",
   "metadata": {},
   "outputs": [],
   "source": [
    "dataFrameWithSentiment = pd.read_csv('/Users/rakshith/employee_reviews_labelled.csv')\n",
    "\n",
    "\n",
    "dataFrameWithSentiment.drop(columns= ['Unnamed: 0'], inplace= True)\n"
   ]
  },
  {
   "cell_type": "code",
   "execution_count": 265,
   "id": "afeab6e4",
   "metadata": {},
   "outputs": [],
   "source": [
    "warnings.filterwarnings('ignore')"
   ]
  },
  {
   "cell_type": "code",
   "execution_count": 266,
   "id": "1070c617",
   "metadata": {
    "scrolled": true
   },
   "outputs": [
    {
     "data": {
      "text/html": [
       "<div>\n",
       "<style scoped>\n",
       "    .dataframe tbody tr th:only-of-type {\n",
       "        vertical-align: middle;\n",
       "    }\n",
       "\n",
       "    .dataframe tbody tr th {\n",
       "        vertical-align: top;\n",
       "    }\n",
       "\n",
       "    .dataframe thead th {\n",
       "        text-align: right;\n",
       "    }\n",
       "</style>\n",
       "<table border=\"1\" class=\"dataframe\">\n",
       "  <thead>\n",
       "    <tr style=\"text-align: right;\">\n",
       "      <th></th>\n",
       "      <th>company</th>\n",
       "      <th>location</th>\n",
       "      <th>Year</th>\n",
       "      <th>Month</th>\n",
       "      <th>EmployeeType</th>\n",
       "      <th>FunctionHR</th>\n",
       "      <th>FunctionSDevelopment</th>\n",
       "      <th>FunctionFinance</th>\n",
       "      <th>FunctionMarketing</th>\n",
       "      <th>RoleLead</th>\n",
       "      <th>RoleSenior</th>\n",
       "      <th>RoleManager</th>\n",
       "      <th>RoleIntern</th>\n",
       "      <th>summary</th>\n",
       "      <th>pros</th>\n",
       "      <th>cons</th>\n",
       "      <th>advice-to-mgmt</th>\n",
       "      <th>ReviewCombined</th>\n",
       "      <th>Senti</th>\n",
       "      <th>ManagementSentiment</th>\n",
       "    </tr>\n",
       "  </thead>\n",
       "  <tbody>\n",
       "    <tr>\n",
       "      <th>0</th>\n",
       "      <td>google</td>\n",
       "      <td>none</td>\n",
       "      <td>2018</td>\n",
       "      <td>Dec</td>\n",
       "      <td>Current Employee</td>\n",
       "      <td>0</td>\n",
       "      <td>0</td>\n",
       "      <td>0</td>\n",
       "      <td>0</td>\n",
       "      <td>0</td>\n",
       "      <td>0</td>\n",
       "      <td>0</td>\n",
       "      <td>0</td>\n",
       "      <td>Best Company to work for</td>\n",
       "      <td>People are smart and friendly</td>\n",
       "      <td>Bureaucracy is slowing things down</td>\n",
       "      <td>none</td>\n",
       "      <td>Best Company to work for People are smart and ...</td>\n",
       "      <td>Positive</td>\n",
       "      <td>Negative</td>\n",
       "    </tr>\n",
       "    <tr>\n",
       "      <th>1</th>\n",
       "      <td>google</td>\n",
       "      <td>Mountain View, CA</td>\n",
       "      <td>2013</td>\n",
       "      <td>Jun</td>\n",
       "      <td>Former Employee</td>\n",
       "      <td>0</td>\n",
       "      <td>0</td>\n",
       "      <td>0</td>\n",
       "      <td>0</td>\n",
       "      <td>0</td>\n",
       "      <td>0</td>\n",
       "      <td>1</td>\n",
       "      <td>0</td>\n",
       "      <td>Moving at the speed of light, burn out is inev...</td>\n",
       "      <td>1) Food, food, food. 15+ cafes on main campus ...</td>\n",
       "      <td>1) Work/life balance. What balance? All those ...</td>\n",
       "      <td>1) Don't dismiss emotional intelligence and ad...</td>\n",
       "      <td>Moving at the speed of light, burn out is inev...</td>\n",
       "      <td>Positive</td>\n",
       "      <td>Positive</td>\n",
       "    </tr>\n",
       "    <tr>\n",
       "      <th>2</th>\n",
       "      <td>google</td>\n",
       "      <td>New York, NY</td>\n",
       "      <td>2014</td>\n",
       "      <td>May</td>\n",
       "      <td>Current Employee</td>\n",
       "      <td>0</td>\n",
       "      <td>1</td>\n",
       "      <td>0</td>\n",
       "      <td>0</td>\n",
       "      <td>0</td>\n",
       "      <td>0</td>\n",
       "      <td>0</td>\n",
       "      <td>0</td>\n",
       "      <td>Great balance between big-company security and...</td>\n",
       "      <td>* If you're a software engineer, you're among ...</td>\n",
       "      <td>* It *is* becoming larger, and with it comes g...</td>\n",
       "      <td>Keep the focus on the user. Everything else wi...</td>\n",
       "      <td>Great balance between big-company security and...</td>\n",
       "      <td>Positive</td>\n",
       "      <td>Negative</td>\n",
       "    </tr>\n",
       "    <tr>\n",
       "      <th>3</th>\n",
       "      <td>google</td>\n",
       "      <td>Mountain View, CA</td>\n",
       "      <td>2015</td>\n",
       "      <td>Feb</td>\n",
       "      <td>Current Employee</td>\n",
       "      <td>0</td>\n",
       "      <td>0</td>\n",
       "      <td>0</td>\n",
       "      <td>0</td>\n",
       "      <td>0</td>\n",
       "      <td>0</td>\n",
       "      <td>0</td>\n",
       "      <td>0</td>\n",
       "      <td>The best place I've worked and also the most d...</td>\n",
       "      <td>You can't find a more well-regarded company th...</td>\n",
       "      <td>I live in SF so the commute can take between 1...</td>\n",
       "      <td>Keep on NOT micromanaging - that is a huge ben...</td>\n",
       "      <td>The best place I've worked and also the most d...</td>\n",
       "      <td>Positive</td>\n",
       "      <td>Positive</td>\n",
       "    </tr>\n",
       "    <tr>\n",
       "      <th>4</th>\n",
       "      <td>google</td>\n",
       "      <td>Los Angeles, CA</td>\n",
       "      <td>2018</td>\n",
       "      <td>Jul</td>\n",
       "      <td>Former Employee</td>\n",
       "      <td>0</td>\n",
       "      <td>1</td>\n",
       "      <td>0</td>\n",
       "      <td>0</td>\n",
       "      <td>0</td>\n",
       "      <td>0</td>\n",
       "      <td>0</td>\n",
       "      <td>0</td>\n",
       "      <td>Unique, one of a kind dream job</td>\n",
       "      <td>Google is a world of its own. At every other c...</td>\n",
       "      <td>If you don't work in MTV (HQ), you will be giv...</td>\n",
       "      <td>Promote managers into management for their man...</td>\n",
       "      <td>Unique, one of a kind dream job Google is a wo...</td>\n",
       "      <td>Positive</td>\n",
       "      <td>Positive</td>\n",
       "    </tr>\n",
       "  </tbody>\n",
       "</table>\n",
       "</div>"
      ],
      "text/plain": [
       "  company           location  Year Month       EmployeeType  FunctionHR  \\\n",
       "0  google               none  2018   Dec  Current Employee            0   \n",
       "1  google  Mountain View, CA  2013   Jun   Former Employee            0   \n",
       "2  google       New York, NY  2014   May  Current Employee            0   \n",
       "3  google  Mountain View, CA  2015   Feb  Current Employee            0   \n",
       "4  google    Los Angeles, CA  2018   Jul   Former Employee            0   \n",
       "\n",
       "   FunctionSDevelopment  FunctionFinance  FunctionMarketing  RoleLead  \\\n",
       "0                     0                0                  0         0   \n",
       "1                     0                0                  0         0   \n",
       "2                     1                0                  0         0   \n",
       "3                     0                0                  0         0   \n",
       "4                     1                0                  0         0   \n",
       "\n",
       "   RoleSenior  RoleManager  RoleIntern  \\\n",
       "0           0            0           0   \n",
       "1           0            1           0   \n",
       "2           0            0           0   \n",
       "3           0            0           0   \n",
       "4           0            0           0   \n",
       "\n",
       "                                             summary  \\\n",
       "0                           Best Company to work for   \n",
       "1  Moving at the speed of light, burn out is inev...   \n",
       "2  Great balance between big-company security and...   \n",
       "3  The best place I've worked and also the most d...   \n",
       "4                    Unique, one of a kind dream job   \n",
       "\n",
       "                                                pros  \\\n",
       "0                      People are smart and friendly   \n",
       "1  1) Food, food, food. 15+ cafes on main campus ...   \n",
       "2  * If you're a software engineer, you're among ...   \n",
       "3  You can't find a more well-regarded company th...   \n",
       "4  Google is a world of its own. At every other c...   \n",
       "\n",
       "                                                cons  \\\n",
       "0                 Bureaucracy is slowing things down   \n",
       "1  1) Work/life balance. What balance? All those ...   \n",
       "2  * It *is* becoming larger, and with it comes g...   \n",
       "3  I live in SF so the commute can take between 1...   \n",
       "4  If you don't work in MTV (HQ), you will be giv...   \n",
       "\n",
       "                                      advice-to-mgmt  \\\n",
       "0                                               none   \n",
       "1  1) Don't dismiss emotional intelligence and ad...   \n",
       "2  Keep the focus on the user. Everything else wi...   \n",
       "3  Keep on NOT micromanaging - that is a huge ben...   \n",
       "4  Promote managers into management for their man...   \n",
       "\n",
       "                                      ReviewCombined     Senti  \\\n",
       "0  Best Company to work for People are smart and ...  Positive   \n",
       "1  Moving at the speed of light, burn out is inev...  Positive   \n",
       "2  Great balance between big-company security and...  Positive   \n",
       "3  The best place I've worked and also the most d...  Positive   \n",
       "4  Unique, one of a kind dream job Google is a wo...  Positive   \n",
       "\n",
       "  ManagementSentiment  \n",
       "0            Negative  \n",
       "1            Positive  \n",
       "2            Negative  \n",
       "3            Positive  \n",
       "4            Positive  "
      ]
     },
     "execution_count": 266,
     "metadata": {},
     "output_type": "execute_result"
    }
   ],
   "source": [
    "dataFrameWithSentiment.head()\n"
   ]
  },
  {
   "cell_type": "code",
   "execution_count": 267,
   "id": "36fee6e7",
   "metadata": {},
   "outputs": [
    {
     "data": {
      "text/plain": [
       "(52725, 20)"
      ]
     },
     "execution_count": 267,
     "metadata": {},
     "output_type": "execute_result"
    }
   ],
   "source": [
    "dataFrameWithSentiment.shape"
   ]
  },
  {
   "cell_type": "code",
   "execution_count": 268,
   "id": "0fe188c7",
   "metadata": {},
   "outputs": [
    {
     "name": "stdout",
     "output_type": "stream",
     "text": [
      "<class 'pandas.core.frame.DataFrame'>\n",
      "RangeIndex: 52725 entries, 0 to 52724\n",
      "Data columns (total 20 columns):\n",
      " #   Column                Non-Null Count  Dtype \n",
      "---  ------                --------------  ----- \n",
      " 0   company               52725 non-null  object\n",
      " 1   location              52725 non-null  object\n",
      " 2   Year                  52725 non-null  int64 \n",
      " 3   Month                 52725 non-null  object\n",
      " 4   EmployeeType          52725 non-null  object\n",
      " 5   FunctionHR            52725 non-null  int64 \n",
      " 6   FunctionSDevelopment  52725 non-null  int64 \n",
      " 7   FunctionFinance       52725 non-null  int64 \n",
      " 8   FunctionMarketing     52725 non-null  int64 \n",
      " 9   RoleLead              52725 non-null  int64 \n",
      " 10  RoleSenior            52725 non-null  int64 \n",
      " 11  RoleManager           52725 non-null  int64 \n",
      " 12  RoleIntern            52725 non-null  int64 \n",
      " 13  summary               52653 non-null  object\n",
      " 14  pros                  52725 non-null  object\n",
      " 15  cons                  52725 non-null  object\n",
      " 16  advice-to-mgmt        52493 non-null  object\n",
      " 17  ReviewCombined        52725 non-null  object\n",
      " 18  Senti                 52725 non-null  object\n",
      " 19  ManagementSentiment   52725 non-null  object\n",
      "dtypes: int64(9), object(11)\n",
      "memory usage: 8.0+ MB\n"
     ]
    }
   ],
   "source": [
    "dataFrameWithSentiment.info()"
   ]
  },
  {
   "cell_type": "code",
   "execution_count": 269,
   "id": "f16b524e",
   "metadata": {},
   "outputs": [
    {
     "data": {
      "text/html": [
       "<div>\n",
       "<style scoped>\n",
       "    .dataframe tbody tr th:only-of-type {\n",
       "        vertical-align: middle;\n",
       "    }\n",
       "\n",
       "    .dataframe tbody tr th {\n",
       "        vertical-align: top;\n",
       "    }\n",
       "\n",
       "    .dataframe thead th {\n",
       "        text-align: right;\n",
       "    }\n",
       "</style>\n",
       "<table border=\"1\" class=\"dataframe\">\n",
       "  <thead>\n",
       "    <tr style=\"text-align: right;\">\n",
       "      <th></th>\n",
       "      <th>ReviewCombined</th>\n",
       "      <th>Senti</th>\n",
       "    </tr>\n",
       "  </thead>\n",
       "  <tbody>\n",
       "    <tr>\n",
       "      <th>0</th>\n",
       "      <td>Best Company to work for People are smart and ...</td>\n",
       "      <td>Positive</td>\n",
       "    </tr>\n",
       "    <tr>\n",
       "      <th>1</th>\n",
       "      <td>Moving at the speed of light, burn out is inev...</td>\n",
       "      <td>Positive</td>\n",
       "    </tr>\n",
       "    <tr>\n",
       "      <th>2</th>\n",
       "      <td>Great balance between big-company security and...</td>\n",
       "      <td>Positive</td>\n",
       "    </tr>\n",
       "    <tr>\n",
       "      <th>3</th>\n",
       "      <td>The best place I've worked and also the most d...</td>\n",
       "      <td>Positive</td>\n",
       "    </tr>\n",
       "    <tr>\n",
       "      <th>4</th>\n",
       "      <td>Unique, one of a kind dream job Google is a wo...</td>\n",
       "      <td>Positive</td>\n",
       "    </tr>\n",
       "  </tbody>\n",
       "</table>\n",
       "</div>"
      ],
      "text/plain": [
       "                                      ReviewCombined     Senti\n",
       "0  Best Company to work for People are smart and ...  Positive\n",
       "1  Moving at the speed of light, burn out is inev...  Positive\n",
       "2  Great balance between big-company security and...  Positive\n",
       "3  The best place I've worked and also the most d...  Positive\n",
       "4  Unique, one of a kind dream job Google is a wo...  Positive"
      ]
     },
     "execution_count": 269,
     "metadata": {},
     "output_type": "execute_result"
    }
   ],
   "source": [
    "#Extracting only text data\n",
    "\n",
    "dataFrameReviewDataset = dataFrameWithSentiment[['ReviewCombined', 'Senti']].copy()\n",
    "\n",
    "dataFrameReviewDataset.head()"
   ]
  },
  {
   "cell_type": "markdown",
   "id": "2bf32a93",
   "metadata": {},
   "source": [
    "### Utilities "
   ]
  },
  {
   "cell_type": "code",
   "execution_count": 315,
   "id": "c560f133",
   "metadata": {},
   "outputs": [
    {
     "name": "stderr",
     "output_type": "stream",
     "text": [
      "[nltk_data] Downloading package stopwords to\n",
      "[nltk_data]     /Users/rakshith/nltk_data...\n",
      "[nltk_data]   Package stopwords is already up-to-date!\n",
      "[nltk_data] Downloading package wordnet to\n",
      "[nltk_data]     /Users/rakshith/nltk_data...\n",
      "[nltk_data]   Package wordnet is already up-to-date!\n",
      "[nltk_data] Downloading package punkt to /Users/rakshith/nltk_data...\n",
      "[nltk_data]   Package punkt is already up-to-date!\n"
     ]
    }
   ],
   "source": [
    "import nltk\n",
    "from nltk.corpus import stopwords\n",
    "\n",
    "\n",
    "def clean_punc(word):\n",
    "    cleaned = re.sub(r'[?|!|\\'|#]', r'', word)\n",
    "    cleaned = re.sub(r'[.|,|)|(|\\|/]', r'', cleaned)\n",
    "    return cleaned\n",
    "\n",
    "\n",
    "nltk.download('stopwords')\n",
    "nltk.download('wordnet')\n",
    "nltk.download('punkt')\n",
    "\n",
    "stopwordsEng = stopwords.words('english')\n",
    "\n",
    "w_tokenizer = nltk.tokenize.WhitespaceTokenizer()\n",
    "lemmatizer = nltk.stem.WordNetLemmatizer()\n",
    "\n",
    "\n",
    "def lemmatizeText(text):\n",
    "    return [lemmatizer.lemmatize(w) for w in w_tokenizer.tokenize(text)]\n",
    "\n",
    "\n",
    "from wordcloud import WordCloud\n",
    "\n",
    "\n",
    "def wc(data, bgcolor, title):\n",
    "    plt.figure(figsize=(10, 5))\n",
    "    wc = WordCloud(background_color=bgcolor,\n",
    "                   max_words=2000,\n",
    "                   random_state=42,\n",
    "                   max_font_size=45)\n",
    "    wc.generate(' '.join(data))\n",
    "    plt.imshow(wc)\n",
    "    plt.title = title\n",
    "    plt.axis('off')\n",
    "\n",
    "\n",
    "#Display confusion Matrix\n",
    "def displayConfusionMatrix(conf_matrix, title):\n",
    "\n",
    "    sns.set(font_scale=1.3)\n",
    "\n",
    "    axis = sns.heatmap(conf_matrix,\n",
    "                 annot=True,\n",
    "                 fmt=\"\",\n",
    "                 cmap='cividis',\n",
    "                 annot_kws={\n",
    "                     'fontsize': 13,\n",
    "                     'fontweight': 'normal',\n",
    "                     'fontfamily': 'arial'\n",
    "                 })\n",
    "    \n",
    "    axis.set_title(title)\n",
    "    axis.set_xlabel('\\nPredicted Values', )\n",
    "    axis.set_ylabel('Actual Values ')\n",
    "    #ax.tick_params(labelsize=13)\n",
    "\n",
    "    ## Ticket labels - List must be in alphabetical order\n",
    "    axis.xaxis.set_ticklabels(['Negative', 'Positive'])\n",
    "    axis.yaxis.set_ticklabels(['Negative', 'Positive'])\n",
    "\n",
    "    ## Display the visualization of the Confusion Matrix.\n",
    "    plt.show()\n",
    "\n",
    "#Saves the model with path and name given in 'modelName'\n",
    "def saveModel(modelName, model):\n",
    "    with open(modelName, 'wb') as f:\n",
    "        pickle.dump(model, f)\n",
    "\n",
    "#Retrieves the saved model from the disk, returns None if not found.        \n",
    "def getModel(modelName):\n",
    "    try:\n",
    "        with open(modelName, 'rb') as f:\n",
    "            model = pickle.load(f)\n",
    "            return model\n",
    "    except FileNotFoundError:\n",
    "        return None"
   ]
  },
  {
   "cell_type": "markdown",
   "id": "0f61335d",
   "metadata": {},
   "source": [
    "### Converting sentiment values to numerical"
   ]
  },
  {
   "cell_type": "code",
   "execution_count": 271,
   "id": "760da78b",
   "metadata": {},
   "outputs": [
    {
     "data": {
      "text/html": [
       "<div>\n",
       "<style scoped>\n",
       "    .dataframe tbody tr th:only-of-type {\n",
       "        vertical-align: middle;\n",
       "    }\n",
       "\n",
       "    .dataframe tbody tr th {\n",
       "        vertical-align: top;\n",
       "    }\n",
       "\n",
       "    .dataframe thead th {\n",
       "        text-align: right;\n",
       "    }\n",
       "</style>\n",
       "<table border=\"1\" class=\"dataframe\">\n",
       "  <thead>\n",
       "    <tr style=\"text-align: right;\">\n",
       "      <th></th>\n",
       "      <th>review</th>\n",
       "      <th>sentiment</th>\n",
       "    </tr>\n",
       "  </thead>\n",
       "  <tbody>\n",
       "    <tr>\n",
       "      <th>0</th>\n",
       "      <td>Best Company to work for People are smart and ...</td>\n",
       "      <td>1</td>\n",
       "    </tr>\n",
       "    <tr>\n",
       "      <th>1</th>\n",
       "      <td>Moving at the speed of light, burn out is inev...</td>\n",
       "      <td>1</td>\n",
       "    </tr>\n",
       "    <tr>\n",
       "      <th>2</th>\n",
       "      <td>Great balance between big-company security and...</td>\n",
       "      <td>1</td>\n",
       "    </tr>\n",
       "    <tr>\n",
       "      <th>3</th>\n",
       "      <td>The best place I've worked and also the most d...</td>\n",
       "      <td>1</td>\n",
       "    </tr>\n",
       "    <tr>\n",
       "      <th>4</th>\n",
       "      <td>Unique, one of a kind dream job Google is a wo...</td>\n",
       "      <td>1</td>\n",
       "    </tr>\n",
       "  </tbody>\n",
       "</table>\n",
       "</div>"
      ],
      "text/plain": [
       "                                              review  sentiment\n",
       "0  Best Company to work for People are smart and ...          1\n",
       "1  Moving at the speed of light, burn out is inev...          1\n",
       "2  Great balance between big-company security and...          1\n",
       "3  The best place I've worked and also the most d...          1\n",
       "4  Unique, one of a kind dream job Google is a wo...          1"
      ]
     },
     "execution_count": 271,
     "metadata": {},
     "output_type": "execute_result"
    }
   ],
   "source": [
    "dataFrameReviewDataset.rename(columns={\n",
    "    \"Senti\": \"sentiment\",\n",
    "    \"ReviewCombined\": \"review\"\n",
    "},\n",
    "                              inplace=True)\n",
    "\n",
    "dataFrameReviewDataset[\"sentiment\"] = dataFrameReviewDataset[\n",
    "    \"sentiment\"].replace({\n",
    "        \"Positive\": 1,\n",
    "        \"Negative\": 0\n",
    "    })\n",
    "\n",
    "dataFrameReviewDataset.head()"
   ]
  },
  {
   "cell_type": "markdown",
   "id": "b248d60b",
   "metadata": {},
   "source": [
    "### Preprocessing data for text analysis"
   ]
  },
  {
   "cell_type": "code",
   "execution_count": 272,
   "id": "8eece05a",
   "metadata": {},
   "outputs": [
    {
     "name": "stdout",
     "output_type": "stream",
     "text": [
      "<class 'pandas.core.frame.DataFrame'>\n",
      "RangeIndex: 52725 entries, 0 to 52724\n",
      "Data columns (total 2 columns):\n",
      " #   Column     Non-Null Count  Dtype \n",
      "---  ------     --------------  ----- \n",
      " 0   review     52725 non-null  string\n",
      " 1   sentiment  52725 non-null  int64 \n",
      "dtypes: int64(1), string(1)\n",
      "memory usage: 824.0 KB\n"
     ]
    }
   ],
   "source": [
    "#Converting type to string\n",
    "dataFrameReviewDataset['review'] = dataFrameReviewDataset['review'].astype('string')\n",
    "\n",
    "dataFrameReviewDataset.info()"
   ]
  },
  {
   "cell_type": "markdown",
   "id": "44051d0a",
   "metadata": {},
   "source": [
    "Lower casing all text"
   ]
  },
  {
   "cell_type": "code",
   "execution_count": 273,
   "id": "55942ca2",
   "metadata": {},
   "outputs": [
    {
     "data": {
      "text/html": [
       "<div>\n",
       "<style scoped>\n",
       "    .dataframe tbody tr th:only-of-type {\n",
       "        vertical-align: middle;\n",
       "    }\n",
       "\n",
       "    .dataframe tbody tr th {\n",
       "        vertical-align: top;\n",
       "    }\n",
       "\n",
       "    .dataframe thead th {\n",
       "        text-align: right;\n",
       "    }\n",
       "</style>\n",
       "<table border=\"1\" class=\"dataframe\">\n",
       "  <thead>\n",
       "    <tr style=\"text-align: right;\">\n",
       "      <th></th>\n",
       "      <th>review</th>\n",
       "      <th>sentiment</th>\n",
       "    </tr>\n",
       "  </thead>\n",
       "  <tbody>\n",
       "    <tr>\n",
       "      <th>0</th>\n",
       "      <td>best company to work for people are smart and ...</td>\n",
       "      <td>1</td>\n",
       "    </tr>\n",
       "    <tr>\n",
       "      <th>1</th>\n",
       "      <td>moving at the speed of light, burn out is inev...</td>\n",
       "      <td>1</td>\n",
       "    </tr>\n",
       "    <tr>\n",
       "      <th>2</th>\n",
       "      <td>great balance between big-company security and...</td>\n",
       "      <td>1</td>\n",
       "    </tr>\n",
       "    <tr>\n",
       "      <th>3</th>\n",
       "      <td>the best place i've worked and also the most d...</td>\n",
       "      <td>1</td>\n",
       "    </tr>\n",
       "    <tr>\n",
       "      <th>4</th>\n",
       "      <td>unique, one of a kind dream job google is a wo...</td>\n",
       "      <td>1</td>\n",
       "    </tr>\n",
       "  </tbody>\n",
       "</table>\n",
       "</div>"
      ],
      "text/plain": [
       "                                              review  sentiment\n",
       "0  best company to work for people are smart and ...          1\n",
       "1  moving at the speed of light, burn out is inev...          1\n",
       "2  great balance between big-company security and...          1\n",
       "3  the best place i've worked and also the most d...          1\n",
       "4  unique, one of a kind dream job google is a wo...          1"
      ]
     },
     "execution_count": 273,
     "metadata": {},
     "output_type": "execute_result"
    }
   ],
   "source": [
    "dataFrameReviewDataset['review'] = dataFrameReviewDataset['review'].str.lower()\n",
    "\n",
    "dataFrameReviewDataset.head()"
   ]
  },
  {
   "cell_type": "markdown",
   "id": "ebd39c77",
   "metadata": {},
   "source": [
    "Removing regex and special characters"
   ]
  },
  {
   "cell_type": "code",
   "execution_count": 274,
   "id": "4f32ed37",
   "metadata": {},
   "outputs": [],
   "source": [
    "dataFrameReviewDataset['review'] = dataFrameReviewDataset[\n",
    "    'review'].str.replace(\"[^A-Za-z]+\", \" \", regex=True)"
   ]
  },
  {
   "cell_type": "code",
   "execution_count": 275,
   "id": "6baeb072",
   "metadata": {},
   "outputs": [
    {
     "data": {
      "text/html": [
       "<div>\n",
       "<style scoped>\n",
       "    .dataframe tbody tr th:only-of-type {\n",
       "        vertical-align: middle;\n",
       "    }\n",
       "\n",
       "    .dataframe tbody tr th {\n",
       "        vertical-align: top;\n",
       "    }\n",
       "\n",
       "    .dataframe thead th {\n",
       "        text-align: right;\n",
       "    }\n",
       "</style>\n",
       "<table border=\"1\" class=\"dataframe\">\n",
       "  <thead>\n",
       "    <tr style=\"text-align: right;\">\n",
       "      <th></th>\n",
       "      <th>review</th>\n",
       "      <th>sentiment</th>\n",
       "    </tr>\n",
       "  </thead>\n",
       "  <tbody>\n",
       "    <tr>\n",
       "      <th>0</th>\n",
       "      <td>best company to work for people are smart and ...</td>\n",
       "      <td>1</td>\n",
       "    </tr>\n",
       "    <tr>\n",
       "      <th>1</th>\n",
       "      <td>moving at the speed of light burn out is inevi...</td>\n",
       "      <td>1</td>\n",
       "    </tr>\n",
       "    <tr>\n",
       "      <th>2</th>\n",
       "      <td>great balance between big company security and...</td>\n",
       "      <td>1</td>\n",
       "    </tr>\n",
       "    <tr>\n",
       "      <th>3</th>\n",
       "      <td>the best place i ve worked and also the most d...</td>\n",
       "      <td>1</td>\n",
       "    </tr>\n",
       "    <tr>\n",
       "      <th>4</th>\n",
       "      <td>unique one of a kind dream job google is a wor...</td>\n",
       "      <td>1</td>\n",
       "    </tr>\n",
       "  </tbody>\n",
       "</table>\n",
       "</div>"
      ],
      "text/plain": [
       "                                              review  sentiment\n",
       "0  best company to work for people are smart and ...          1\n",
       "1  moving at the speed of light burn out is inevi...          1\n",
       "2  great balance between big company security and...          1\n",
       "3  the best place i ve worked and also the most d...          1\n",
       "4  unique one of a kind dream job google is a wor...          1"
      ]
     },
     "execution_count": 275,
     "metadata": {},
     "output_type": "execute_result"
    }
   ],
   "source": [
    "dataFrameReviewDataset['review'] = dataFrameReviewDataset[\n",
    "    'review'].apply(lambda x: clean_punc(str(x)))\n",
    "\n",
    "dataFrameReviewDataset.head()"
   ]
  },
  {
   "cell_type": "markdown",
   "id": "2bd8b80d",
   "metadata": {},
   "source": [
    "Removing stopwords"
   ]
  },
  {
   "cell_type": "code",
   "execution_count": 276,
   "id": "b5d5d7f3",
   "metadata": {},
   "outputs": [
    {
     "data": {
      "text/html": [
       "<div>\n",
       "<style scoped>\n",
       "    .dataframe tbody tr th:only-of-type {\n",
       "        vertical-align: middle;\n",
       "    }\n",
       "\n",
       "    .dataframe tbody tr th {\n",
       "        vertical-align: top;\n",
       "    }\n",
       "\n",
       "    .dataframe thead th {\n",
       "        text-align: right;\n",
       "    }\n",
       "</style>\n",
       "<table border=\"1\" class=\"dataframe\">\n",
       "  <thead>\n",
       "    <tr style=\"text-align: right;\">\n",
       "      <th></th>\n",
       "      <th>review</th>\n",
       "      <th>sentiment</th>\n",
       "    </tr>\n",
       "  </thead>\n",
       "  <tbody>\n",
       "    <tr>\n",
       "      <th>0</th>\n",
       "      <td>best company work people smart friendly bureau...</td>\n",
       "      <td>1</td>\n",
       "    </tr>\n",
       "    <tr>\n",
       "      <th>1</th>\n",
       "      <td>moving speed light burn inevitable food food f...</td>\n",
       "      <td>1</td>\n",
       "    </tr>\n",
       "    <tr>\n",
       "      <th>2</th>\n",
       "      <td>great balance big company security fun fast mo...</td>\n",
       "      <td>1</td>\n",
       "    </tr>\n",
       "    <tr>\n",
       "      <th>3</th>\n",
       "      <td>best place worked also demanding find well reg...</td>\n",
       "      <td>1</td>\n",
       "    </tr>\n",
       "    <tr>\n",
       "      <th>4</th>\n",
       "      <td>unique one kind dream job google world every c...</td>\n",
       "      <td>1</td>\n",
       "    </tr>\n",
       "  </tbody>\n",
       "</table>\n",
       "</div>"
      ],
      "text/plain": [
       "                                              review  sentiment\n",
       "0  best company work people smart friendly bureau...          1\n",
       "1  moving speed light burn inevitable food food f...          1\n",
       "2  great balance big company security fun fast mo...          1\n",
       "3  best place worked also demanding find well reg...          1\n",
       "4  unique one kind dream job google world every c...          1"
      ]
     },
     "execution_count": 276,
     "metadata": {},
     "output_type": "execute_result"
    }
   ],
   "source": [
    "dataFrameReviewDataset['review'] = dataFrameReviewDataset['review'].apply(\n",
    "    lambda x: ' '.join(\n",
    "        [word for word in x.split() if word not in (stopwordsEng)]))\n",
    "\n",
    "dataFrameReviewDataset.head()"
   ]
  },
  {
   "cell_type": "markdown",
   "id": "97a778c6",
   "metadata": {},
   "source": [
    "Lemmatizing the text"
   ]
  },
  {
   "cell_type": "code",
   "execution_count": 277,
   "id": "cab1593d",
   "metadata": {},
   "outputs": [],
   "source": [
    "dataFrameReviewDataset['review'] = dataFrameReviewDataset['review'].apply(lambda x: lemmatizeText(x))"
   ]
  },
  {
   "cell_type": "code",
   "execution_count": 278,
   "id": "81aa6e45",
   "metadata": {},
   "outputs": [
    {
     "data": {
      "text/html": [
       "<div>\n",
       "<style scoped>\n",
       "    .dataframe tbody tr th:only-of-type {\n",
       "        vertical-align: middle;\n",
       "    }\n",
       "\n",
       "    .dataframe tbody tr th {\n",
       "        vertical-align: top;\n",
       "    }\n",
       "\n",
       "    .dataframe thead th {\n",
       "        text-align: right;\n",
       "    }\n",
       "</style>\n",
       "<table border=\"1\" class=\"dataframe\">\n",
       "  <thead>\n",
       "    <tr style=\"text-align: right;\">\n",
       "      <th></th>\n",
       "      <th>review</th>\n",
       "      <th>sentiment</th>\n",
       "      <th>review_lemmatised</th>\n",
       "    </tr>\n",
       "  </thead>\n",
       "  <tbody>\n",
       "    <tr>\n",
       "      <th>0</th>\n",
       "      <td>[best, company, work, people, smart, friendly,...</td>\n",
       "      <td>1</td>\n",
       "      <td>best company work people smart friendly bureau...</td>\n",
       "    </tr>\n",
       "    <tr>\n",
       "      <th>1</th>\n",
       "      <td>[moving, speed, light, burn, inevitable, food,...</td>\n",
       "      <td>1</td>\n",
       "      <td>moving speed light burn inevitable food food f...</td>\n",
       "    </tr>\n",
       "    <tr>\n",
       "      <th>2</th>\n",
       "      <td>[great, balance, big, company, security, fun, ...</td>\n",
       "      <td>1</td>\n",
       "      <td>great balance big company security fun fast mo...</td>\n",
       "    </tr>\n",
       "    <tr>\n",
       "      <th>3</th>\n",
       "      <td>[best, place, worked, also, demanding, find, w...</td>\n",
       "      <td>1</td>\n",
       "      <td>best place worked also demanding find well reg...</td>\n",
       "    </tr>\n",
       "    <tr>\n",
       "      <th>4</th>\n",
       "      <td>[unique, one, kind, dream, job, google, world,...</td>\n",
       "      <td>1</td>\n",
       "      <td>unique one kind dream job google world every c...</td>\n",
       "    </tr>\n",
       "  </tbody>\n",
       "</table>\n",
       "</div>"
      ],
      "text/plain": [
       "                                              review  sentiment  \\\n",
       "0  [best, company, work, people, smart, friendly,...          1   \n",
       "1  [moving, speed, light, burn, inevitable, food,...          1   \n",
       "2  [great, balance, big, company, security, fun, ...          1   \n",
       "3  [best, place, worked, also, demanding, find, w...          1   \n",
       "4  [unique, one, kind, dream, job, google, world,...          1   \n",
       "\n",
       "                                   review_lemmatised  \n",
       "0  best company work people smart friendly bureau...  \n",
       "1  moving speed light burn inevitable food food f...  \n",
       "2  great balance big company security fun fast mo...  \n",
       "3  best place worked also demanding find well reg...  \n",
       "4  unique one kind dream job google world every c...  "
      ]
     },
     "execution_count": 278,
     "metadata": {},
     "output_type": "execute_result"
    }
   ],
   "source": [
    "dataFrameReviewDataset[\"review_lemmatised\"] = [\n",
    "    ' '.join(map(str, l)) for l in dataFrameReviewDataset['review']\n",
    "]\n",
    "\n",
    "dataFrameReviewDataset.head()\n"
   ]
  },
  {
   "cell_type": "markdown",
   "id": "b2ecbdce",
   "metadata": {},
   "source": [
    "Dropping the review column"
   ]
  },
  {
   "cell_type": "code",
   "execution_count": 279,
   "id": "714469cd",
   "metadata": {},
   "outputs": [],
   "source": [
    "x = dataFrameReviewDataset[[\"review\", \"review_lemmatised\"]]\n",
    "y = dataFrameReviewDataset[\"sentiment\"]\n",
    "\n",
    "X_train, X_test, y_train, y_test = train_test_split(x,y, stratify=y, test_size=0.25, random_state=42)"
   ]
  },
  {
   "cell_type": "code",
   "execution_count": 280,
   "id": "9ab61d84",
   "metadata": {},
   "outputs": [
    {
     "name": "stdout",
     "output_type": "stream",
     "text": [
      "<class 'pandas.core.frame.DataFrame'>\n"
     ]
    },
    {
     "data": {
      "text/html": [
       "<div>\n",
       "<style scoped>\n",
       "    .dataframe tbody tr th:only-of-type {\n",
       "        vertical-align: middle;\n",
       "    }\n",
       "\n",
       "    .dataframe tbody tr th {\n",
       "        vertical-align: top;\n",
       "    }\n",
       "\n",
       "    .dataframe thead th {\n",
       "        text-align: right;\n",
       "    }\n",
       "</style>\n",
       "<table border=\"1\" class=\"dataframe\">\n",
       "  <thead>\n",
       "    <tr style=\"text-align: right;\">\n",
       "      <th></th>\n",
       "      <th>review</th>\n",
       "      <th>review_lemmatised</th>\n",
       "    </tr>\n",
       "  </thead>\n",
       "  <tbody>\n",
       "    <tr>\n",
       "      <th>43048</th>\n",
       "      <td>[sde, microsoft, good, benefit, good, team, go...</td>\n",
       "      <td>sde microsoft good benefit good team good cult...</td>\n",
       "    </tr>\n",
       "    <tr>\n",
       "      <th>15416</th>\n",
       "      <td>[depends, manager, generally, happy, independe...</td>\n",
       "      <td>depends manager generally happy independent lo...</td>\n",
       "    </tr>\n",
       "    <tr>\n",
       "      <th>15816</th>\n",
       "      <td>[software, development, engineer, ii, intellig...</td>\n",
       "      <td>software development engineer ii intelligent c...</td>\n",
       "    </tr>\n",
       "    <tr>\n",
       "      <th>52199</th>\n",
       "      <td>[overall, ok, experience, good, benefit, great...</td>\n",
       "      <td>overall ok experience good benefit great salar...</td>\n",
       "    </tr>\n",
       "    <tr>\n",
       "      <th>29853</th>\n",
       "      <td>[dont, good, pay, good, benefit, horrible, exp...</td>\n",
       "      <td>dont good pay good benefit horrible expectatio...</td>\n",
       "    </tr>\n",
       "  </tbody>\n",
       "</table>\n",
       "</div>"
      ],
      "text/plain": [
       "                                                  review  \\\n",
       "43048  [sde, microsoft, good, benefit, good, team, go...   \n",
       "15416  [depends, manager, generally, happy, independe...   \n",
       "15816  [software, development, engineer, ii, intellig...   \n",
       "52199  [overall, ok, experience, good, benefit, great...   \n",
       "29853  [dont, good, pay, good, benefit, horrible, exp...   \n",
       "\n",
       "                                       review_lemmatised  \n",
       "43048  sde microsoft good benefit good team good cult...  \n",
       "15416  depends manager generally happy independent lo...  \n",
       "15816  software development engineer ii intelligent c...  \n",
       "52199  overall ok experience good benefit great salar...  \n",
       "29853  dont good pay good benefit horrible expectatio...  "
      ]
     },
     "execution_count": 280,
     "metadata": {},
     "output_type": "execute_result"
    }
   ],
   "source": [
    "print(type(X_train))\n",
    "X_train.head()\n"
   ]
  },
  {
   "cell_type": "code",
   "execution_count": 96,
   "id": "d9caee0f",
   "metadata": {},
   "outputs": [
    {
     "data": {
      "text/html": [
       "<div>\n",
       "<style scoped>\n",
       "    .dataframe tbody tr th:only-of-type {\n",
       "        vertical-align: middle;\n",
       "    }\n",
       "\n",
       "    .dataframe tbody tr th {\n",
       "        vertical-align: top;\n",
       "    }\n",
       "\n",
       "    .dataframe thead th {\n",
       "        text-align: right;\n",
       "    }\n",
       "</style>\n",
       "<table border=\"1\" class=\"dataframe\">\n",
       "  <thead>\n",
       "    <tr style=\"text-align: right;\">\n",
       "      <th></th>\n",
       "      <th>Numbers</th>\n",
       "    </tr>\n",
       "  </thead>\n",
       "  <tbody>\n",
       "    <tr>\n",
       "      <th>0</th>\n",
       "      <td>10</td>\n",
       "    </tr>\n",
       "    <tr>\n",
       "      <th>1</th>\n",
       "      <td>20</td>\n",
       "    </tr>\n",
       "    <tr>\n",
       "      <th>2</th>\n",
       "      <td>30</td>\n",
       "    </tr>\n",
       "    <tr>\n",
       "      <th>3</th>\n",
       "      <td>40</td>\n",
       "    </tr>\n",
       "    <tr>\n",
       "      <th>4</th>\n",
       "      <td>50</td>\n",
       "    </tr>\n",
       "    <tr>\n",
       "      <th>5</th>\n",
       "      <td>60</td>\n",
       "    </tr>\n",
       "    <tr>\n",
       "      <th>0</th>\n",
       "      <td>11</td>\n",
       "    </tr>\n",
       "    <tr>\n",
       "      <th>1</th>\n",
       "      <td>22</td>\n",
       "    </tr>\n",
       "    <tr>\n",
       "      <th>2</th>\n",
       "      <td>33</td>\n",
       "    </tr>\n",
       "    <tr>\n",
       "      <th>3</th>\n",
       "      <td>44</td>\n",
       "    </tr>\n",
       "    <tr>\n",
       "      <th>4</th>\n",
       "      <td>55</td>\n",
       "    </tr>\n",
       "    <tr>\n",
       "      <th>5</th>\n",
       "      <td>66</td>\n",
       "    </tr>\n",
       "  </tbody>\n",
       "</table>\n",
       "</div>"
      ],
      "text/plain": [
       "   Numbers\n",
       "0       10\n",
       "1       20\n",
       "2       30\n",
       "3       40\n",
       "4       50\n",
       "5       60\n",
       "0       11\n",
       "1       22\n",
       "2       33\n",
       "3       44\n",
       "4       55\n",
       "5       66"
      ]
     },
     "execution_count": 96,
     "metadata": {},
     "output_type": "execute_result"
    }
   ],
   "source": [
    "data = [10,20,30,40,50,60]\n",
    "data2 = [11,22,33,44,55,66]\n",
    "\n",
    "# Create the pandas DataFrame with column name is provided explicitly\n",
    "df = pd.DataFrame(data, columns=['Numbers'])\n",
    "\n",
    "df2 = pd.DataFrame(data2, columns=['Numbers'])\n",
    "\n",
    "df3 = pd.concat([df, df2])\n",
    "df3"
   ]
  },
  {
   "cell_type": "code",
   "execution_count": 281,
   "id": "7fc67c5a",
   "metadata": {},
   "outputs": [],
   "source": [
    "X_trainTokens = X_train[\"review\"]\n",
    "X_trainString = X_train[\"review_lemmatised\"]\n",
    "X_testTokens = X_test[\"review\"]\n",
    "X_testString = X_test[\"review_lemmatised\"]"
   ]
  },
  {
   "cell_type": "code",
   "execution_count": 282,
   "id": "fb15960e",
   "metadata": {},
   "outputs": [
    {
     "data": {
      "text/plain": [
       "43048    1\n",
       "15416    1\n",
       "15816    1\n",
       "52199    1\n",
       "29853    0\n",
       "        ..\n",
       "2727     1\n",
       "4073     1\n",
       "5431     1\n",
       "28433    1\n",
       "36545    1\n",
       "Name: sentiment, Length: 39543, dtype: int64"
      ]
     },
     "execution_count": 282,
     "metadata": {},
     "output_type": "execute_result"
    }
   ],
   "source": [
    "X_train.head()\n",
    "\n",
    "y_train"
   ]
  },
  {
   "cell_type": "markdown",
   "id": "4f71685d",
   "metadata": {},
   "source": [
    "## Logistic regression with tfid vectorizer"
   ]
  },
  {
   "cell_type": "code",
   "execution_count": 285,
   "id": "85a66133",
   "metadata": {},
   "outputs": [
    {
     "data": {
      "text/plain": [
       "GridSearchCV(cv=5,\n",
       "             estimator=Pipeline(steps=[('tfidf', TfidfVectorizer()),\n",
       "                                       ('clf', LogisticRegression())]),\n",
       "             n_jobs=-1,\n",
       "             param_grid={'clf__C': [0.1, 1, 10, 100],\n",
       "                         'clf__penalty': ['l1', 'l2'],\n",
       "                         'clf__solver': ['lbfgs', 'sag'],\n",
       "                         'tfidf__max_df': (0.25, 0.5, 0.75),\n",
       "                         'tfidf__ngram_range': ((1, 1), (1, 2), (2, 2))},\n",
       "             scoring='f1_macro')"
      ]
     },
     "execution_count": 285,
     "metadata": {},
     "output_type": "execute_result"
    }
   ],
   "source": [
    "tfidfvect = TfidfVectorizer()\n",
    "logisticRegression = LogisticRegression()\n",
    "\n",
    "CParamRange = [0.1, 1, 10, 100]\n",
    "penalty = [\"l1\", 'l2']\n",
    "solver = ['lbfgs', 'sag']\n",
    "\n",
    "pipeline = Pipeline([('tfidf', tfidfvect), ('clf', logisticRegression)])\n",
    "\n",
    "paramGrid = {\n",
    "    'clf__C': CParamRange,\n",
    "    'clf__penalty': penalty,\n",
    "    'clf__solver': solver,\n",
    "    'tfidf__ngram_range': ((1, 1), (1, 2), (2, 2)),\n",
    "    'tfidf__max_df': (0.25, 0.5, 0.75)\n",
    "}\n",
    "\n",
    "gridSearchCVLogisticRegressionTfid = GridSearchCV(pipeline,\n",
    "                                                  paramGrid,\n",
    "                                                  n_jobs=-1,\n",
    "                                                  cv=5,\n",
    "                                                  scoring=\"f1_macro\")\n",
    "\n",
    "gridSearchCVLogisticRegressionTfid.fit(X_trainString, y_train)"
   ]
  },
  {
   "cell_type": "code",
   "execution_count": 415,
   "id": "b0e8f488",
   "metadata": {},
   "outputs": [
    {
     "name": "stdout",
     "output_type": "stream",
     "text": [
      "F-score:\n",
      " 0.7725584547443928\n",
      "Balanced Accuracy score: 0.7355138175366566\n",
      "              precision    recall  f1-score   support\n",
      "\n",
      "           0       0.73      0.49      0.59      1497\n",
      "           1       0.94      0.98      0.96     11685\n",
      "\n",
      "    accuracy                           0.92     13182\n",
      "   macro avg       0.83      0.74      0.77     13182\n",
      "weighted avg       0.91      0.92      0.91     13182\n",
      "\n",
      "Confusion Matrix\n"
     ]
    },
    {
     "data": {
      "image/png": "[encoded data removed]",
      "text/plain": [
       "<Figure size 432x288 with 2 Axes>"
      ]
     },
     "metadata": {},
     "output_type": "display_data"
    }
   ],
   "source": [
    "logisticRegressionTfidModel = gridSearchCVLogisticRegressionTfid.best_estimator_\n",
    "\n",
    "y_hatLogisticRegressionTfid = logisticRegressionTfidModel.predict(X_testString)\n",
    "\n",
    "precesion, recall, fscoreLRTfid, support = precision_recall_fscore_support(\n",
    "    y_hatLogisticRegressionTfid, y_test[\"sentiment\"], average=\"macro\")\n",
    "\n",
    "print(\"F-score:\\n\", fscoreLRTfid)\n",
    "\n",
    "print(\n",
    "    \"Balanced Accuracy score:\",\n",
    "    balanced_accuracy_score(y_test[\"sentiment\"], y_hatLogisticRegressionTfid))\n",
    "print(classification_report(y_test[\"sentiment\"], y_hatLogisticRegressionTfid))\n",
    "\n",
    "conf_mat = confusion_matrix(y_test[\"sentiment\"], y_hatLogisticRegressionTfid)\n",
    "\n",
    "print(\"Confusion Matrix\")\n",
    "displayConfusionMatrix(conf_mat, \"Logistic regression with tfid\\n\")"
   ]
  },
  {
   "cell_type": "code",
   "execution_count": 424,
   "id": "702019fa",
   "metadata": {},
   "outputs": [
    {
     "name": "stdout",
     "output_type": "stream",
     "text": [
      "Mathews Coefficient: 0.559080224746692\n",
      "Recall: 0.8317965597221928\n"
     ]
    }
   ],
   "source": [
    "print(\"Mathews Coefficient:\",\n",
    "      matthews_corrcoef(y_test[\"sentiment\"], y_hatLogisticRegressionTfid))\n",
    "print(\"Recall:\", recall)"
   ]
  },
  {
   "cell_type": "code",
   "execution_count": 426,
   "id": "261d4051",
   "metadata": {},
   "outputs": [
    {
     "name": "stdout",
     "output_type": "stream",
     "text": [
      "[0.72575906 0.93783406]\n"
     ]
    }
   ],
   "source": [
    "precesion, recall, fscoreLRTfid, support = precision_recall_fscore_support(\n",
    "    y_hatLogisticRegressionTfid, y_test[\"sentiment\"])\n"
   ]
  },
  {
   "cell_type": "markdown",
   "id": "bcd74bc7",
   "metadata": {},
   "source": [
    "### Multinomial Naive bayes with tf-idf"
   ]
  },
  {
   "cell_type": "code",
   "execution_count": 292,
   "id": "8587a0b3",
   "metadata": {},
   "outputs": [
    {
     "data": {
      "text/plain": [
       "GridSearchCV(cv=5,\n",
       "             estimator=Pipeline(steps=[('tfidf', TfidfVectorizer()),\n",
       "                                       ('clf', MultinomialNB())]),\n",
       "             n_jobs=-1,\n",
       "             param_grid={'clf__alpha': (0.25, 0.5, 0.75),\n",
       "                         'tfidf__max_df': (0.25, 0.5, 0.75),\n",
       "                         'tfidf__ngram_range': ((1, 1), (1, 2), (2, 2)),\n",
       "                         'tfidf__use_idf': (True, False)},\n",
       "             scoring='f1_macro')"
      ]
     },
     "execution_count": 292,
     "metadata": {},
     "output_type": "execute_result"
    }
   ],
   "source": [
    "tfidfvect = TfidfVectorizer()\n",
    "multinomialNB = MultinomialNB()\n",
    "\n",
    "pipeline = Pipeline([('tfidf', tfidfvect), ('clf', multinomialNB)])\n",
    "\n",
    "paramGrid = {\n",
    "    'clf__alpha': (0.25, 0.5, 0.75),\n",
    "    'tfidf__use_idf': (True, False),\n",
    "    'tfidf__ngram_range': ((1, 1), (1, 2), (2, 2)),\n",
    "    'tfidf__max_df': (0.25, 0.5, 0.75)\n",
    "}\n",
    "\n",
    "gridSearchCVNaiveBayesTfid = GridSearchCV(pipeline,\n",
    "                            paramGrid,\n",
    "                            n_jobs=-1,\n",
    "                            cv=5,\n",
    "                            scoring= \"f1_macro\")\n",
    "\n",
    "gridSearchCVNaiveBayesTfid.fit(X_trainString, y_train)\n"
   ]
  },
  {
   "cell_type": "code",
   "execution_count": 313,
   "id": "7e5fa51b",
   "metadata": {},
   "outputs": [
    {
     "name": "stdout",
     "output_type": "stream",
     "text": [
      "F1-score\n",
      ": 0.528122158108265\n",
      "              precision    recall  f1-score   support\n",
      "\n",
      "           0       0.67      0.06      0.11      1497\n",
      "           1       0.89      1.00      0.94     11685\n",
      "\n",
      "    accuracy                           0.89     13182\n",
      "   macro avg       0.78      0.53      0.53     13182\n",
      "weighted avg       0.87      0.89      0.85     13182\n",
      "\n"
     ]
    },
    {
     "data": {
      "image/png": "[encoded data removed]",
      "text/plain": [
       "<Figure size 432x288 with 2 Axes>"
      ]
     },
     "metadata": {},
     "output_type": "display_data"
    }
   ],
   "source": [
    "#Estimating the model\n",
    "naiveBayesTfidModel = gridSearchCVNaiveBayesTfid.best_estimator_\n",
    "\n",
    "y_hatNaiveBayes = naiveBayesTfidModel.predict(X_testString)\n",
    "\n",
    "precesion, recall, fscoreNB, support = precision_recall_fscore_support(\n",
    "    y_hatNaiveBayes, y_test, average=\"macro\")\n",
    "\n",
    "print(\"F1-score\\n:\",fscoreNB)\n",
    "\n",
    "print(\n",
    "    classification_report(\n",
    "        y_test,\n",
    "        naiveBayesTfidModel.predict(X_testString)))\n",
    "\n",
    "conf_mat_nbtfid = confusion_matrix(y_test, y_hatNaiveBayes)\n",
    "\n",
    "displayConfusionMatrix(conf_mat_nbtfid, \"Multinomial NB with Tfid\")"
   ]
  },
  {
   "cell_type": "code",
   "execution_count": 440,
   "id": "78e23764",
   "metadata": {},
   "outputs": [
    {
     "name": "stdout",
     "output_type": "stream",
     "text": [
      "Balanced Accuracy score: 0.529427790111674\n",
      "Mathews Coefficient: 0.18216997061794568\n",
      "[0.06279225 0.99606333]\n"
     ]
    },
    {
     "data": {
      "text/plain": [
       "0.6714285714285714"
      ]
     },
     "execution_count": 440,
     "metadata": {},
     "output_type": "execute_result"
    }
   ],
   "source": [
    "print(\n",
    "    \"Balanced Accuracy score:\",\n",
    "    balanced_accuracy_score(y_test[\"sentiment\"], y_hatNaiveBayes))\n",
    "\n",
    "print(\"Mathews Coefficient:\",\n",
    "      matthews_corrcoef(y_test[\"sentiment\"], y_hatNaiveBayes))\n",
    "\n",
    "precesion, recallNB, fscoreNBTrail, support = precision_recall_fscore_support(\n",
    "    y_hatNaiveBayes, y_test[\"sentiment\"])\n",
    "print(precesion)\n",
    "recall_score(y_hatNaiveBayes, y_test[\"sentiment\"], pos_label= 0)\n",
    "\n"
   ]
  },
  {
   "cell_type": "markdown",
   "id": "4f7f168d",
   "metadata": {},
   "source": [
    "## Random Forest with tf-idf"
   ]
  },
  {
   "cell_type": "code",
   "execution_count": 319,
   "id": "55b62184",
   "metadata": {},
   "outputs": [
    {
     "data": {
      "text/plain": [
       "GridSearchCV(cv=3,\n",
       "             estimator=Pipeline(steps=[('tfidf', TfidfVectorizer()),\n",
       "                                       ('clf',\n",
       "                                        RandomForestClassifier(random_state=7))]),\n",
       "             n_jobs=-1,\n",
       "             param_grid={'clf__max_depth': [15, 30, 50],\n",
       "                         'clf__n_estimators': [20, 100, 150],\n",
       "                         'tfidf__max_df': (0.25, 0.5, 0.75),\n",
       "                         'tfidf__ngram_range': ((1, 1), (1, 2), (2, 2)),\n",
       "                         'tfidf__use_idf': (True, False)},\n",
       "             scoring='f1_macro')"
      ]
     },
     "execution_count": 319,
     "metadata": {},
     "output_type": "execute_result"
    }
   ],
   "source": [
    "tfidfvectRF = TfidfVectorizer()\n",
    "randomForestClassifier = RandomForestClassifier(random_state=7)\n",
    "\n",
    "pipeline = Pipeline([('tfidf', tfidfvectRF), ('clf', randomForestClassifier)])\n",
    "\n",
    "paramGrid = {\n",
    "    'clf__n_estimators': [20, 100, 150],\n",
    "    'clf__max_depth': [15, 30, 50],\n",
    "    'tfidf__use_idf': (True, False),\n",
    "    'tfidf__ngram_range': ((1, 1), (1, 2), (2, 2)),\n",
    "    'tfidf__max_df': (0.25, 0.5, 0.75)\n",
    "}\n",
    "\n",
    "gridSearchCVRandomForestTfid = GridSearchCV(pipeline,\n",
    "                                            paramGrid,\n",
    "                                            n_jobs=-1,\n",
    "                                            cv=3,\n",
    "                                            scoring=\"f1_macro\")\n",
    "\n",
    "gridSearchCVRandomForestTfid.fit(X_trainString, y_train)"
   ]
  },
  {
   "cell_type": "code",
   "execution_count": 320,
   "id": "b7f16493",
   "metadata": {},
   "outputs": [
    {
     "name": "stdout",
     "output_type": "stream",
     "text": [
      "F1 score: 0.5019392033542978\n",
      "              precision    recall  f1-score   support\n",
      "\n",
      "           0       0.78      0.03      0.06      1497\n",
      "           1       0.89      1.00      0.94     11685\n",
      "\n",
      "    accuracy                           0.89     13182\n",
      "   macro avg       0.83      0.52      0.50     13182\n",
      "weighted avg       0.88      0.89      0.84     13182\n",
      "\n"
     ]
    },
    {
     "data": {
      "image/png": "[encoded data removed]",
      "text/plain": [
       "<Figure size 432x288 with 2 Axes>"
      ]
     },
     "metadata": {},
     "output_type": "display_data"
    }
   ],
   "source": [
    "randomForestTfidModel = gridSearchCVRandomForestTfid.best_estimator_\n",
    "\n",
    "y_hatRandomForestTfid = randomForestTfidModel.predict(X_testString)\n",
    "\n",
    "precesion, recall, fscoreRFTfid, support = precision_recall_fscore_support(\n",
    "    y_hatRandomForestTfid, y_test, average=\"macro\")\n",
    "\n",
    "print(\"F1 score:\", fscoreRFTfid)\n",
    "\n",
    "print(classification_report(y_test, y_hatRandomForestTfid))\n",
    "\n",
    "conf_mat_rftfid = confusion_matrix(y_test, y_hatRandomForestTfid)\n",
    "\n",
    "displayConfusionMatrix(conf_mat_rftfid, \"Confusion Matrix Random Forest with Tfid\")"
   ]
  },
  {
   "cell_type": "code",
   "execution_count": 436,
   "id": "f5f80009",
   "metadata": {},
   "outputs": [
    {
     "name": "stdout",
     "output_type": "stream",
     "text": [
      "Balanced Accuracy score: 0.5157670068420966\n",
      "Mathews Coefficient: 0.14507209057166276\n"
     ]
    },
    {
     "data": {
      "text/plain": [
       "0.8896257336687248"
      ]
     },
     "execution_count": 436,
     "metadata": {},
     "output_type": "execute_result"
    }
   ],
   "source": [
    "print(\n",
    "    \"Balanced Accuracy score:\",\n",
    "    balanced_accuracy_score(y_test[\"sentiment\"], y_hatRandomForestTfid))\n",
    "\n",
    "print(\"Mathews Coefficient:\",\n",
    "      matthews_corrcoef(y_test[\"sentiment\"], y_hatRandomForestTfid))\n",
    "\n",
    "recall_score(y_hatRandomForestTfid, y_test[\"sentiment\"])"
   ]
  },
  {
   "cell_type": "markdown",
   "id": "f70e2d29",
   "metadata": {},
   "source": [
    "## Logistic Regression with Count vector"
   ]
  },
  {
   "cell_type": "code",
   "execution_count": 323,
   "id": "0ea3eb32",
   "metadata": {},
   "outputs": [
    {
     "data": {
      "text/plain": [
       "GridSearchCV(cv=3,\n",
       "             estimator=Pipeline(steps=[('vect', CountVectorizer()),\n",
       "                                       ('clf', LogisticRegression())]),\n",
       "             n_jobs=-1,\n",
       "             param_grid={'clf__C': [0.1, 1, 10, 100],\n",
       "                         'clf__penalty': ['l1', 'l2'],\n",
       "                         'clf__solver': ['lbfgs', 'sag'],\n",
       "                         'vect__max_df': (0.25, 0.5, 0.75),\n",
       "                         'vect__ngram_range': ((1, 1), (1, 2), (2, 2))},\n",
       "             scoring='f1_macro')"
      ]
     },
     "execution_count": 323,
     "metadata": {},
     "output_type": "execute_result"
    }
   ],
   "source": [
    "countVector = CountVectorizer()\n",
    "logisticRegression = LogisticRegression()\n",
    "\n",
    "CParamRange = [0.1, 1, 10, 100]\n",
    "penalty = [\"l1\", 'l2']\n",
    "solver = ['lbfgs', 'sag']\n",
    "\n",
    "pipeline = Pipeline([('vect', countVector), ('clf', logisticRegression)])\n",
    "\n",
    "paramGrid = {\n",
    "    'clf__C': CParamRange,\n",
    "    'clf__penalty': penalty,\n",
    "    'clf__solver': solver,\n",
    "    'vect__ngram_range': ((1, 1), (1, 2), (2, 2)),\n",
    "    'vect__max_df': (0.25, 0.5, 0.75)\n",
    "}\n",
    "\n",
    "gridSearchCVLogisticRegressionCV = GridSearchCV(pipeline,\n",
    "                                                paramGrid,\n",
    "                                                n_jobs=-1,\n",
    "                                                cv=3,\n",
    "                                                scoring=\"f1_macro\")\n",
    "\n",
    "gridSearchCVLogisticRegressionCV.fit(X_trainString, y_train)"
   ]
  },
  {
   "cell_type": "code",
   "execution_count": 324,
   "id": "45346095",
   "metadata": {},
   "outputs": [
    {
     "name": "stdout",
     "output_type": "stream",
     "text": [
      "F-score:\n",
      " 0.7743415923171375\n",
      "              precision    recall  f1-score   support\n",
      "\n",
      "           0       0.71      0.51      0.59      1497\n",
      "           1       0.94      0.97      0.96     11685\n",
      "\n",
      "    accuracy                           0.92     13182\n",
      "   macro avg       0.83      0.74      0.77     13182\n",
      "weighted avg       0.91      0.92      0.91     13182\n",
      "\n",
      "Confusion Matrix\n"
     ]
    },
    {
     "data": {
      "image/png": "[encoded data removed]",
      "text/plain": [
       "<Figure size 432x288 with 2 Axes>"
      ]
     },
     "metadata": {},
     "output_type": "display_data"
    }
   ],
   "source": [
    "logisticRegressionCVModel = gridSearchCVLogisticRegressionCV.best_estimator_\n",
    "\n",
    "y_hatLogisticRegressionCV = logisticRegressionCVModel.predict(X_testString)\n",
    "\n",
    "precesion, recall, fscoreLRCountVector, support = precision_recall_fscore_support(\n",
    "    y_hatLogisticRegressionCV, y_test, average=\"macro\")\n",
    "\n",
    "print(\"F-score:\\n\", fscoreLRCountVector)\n",
    "\n",
    "print(classification_report(y_test, y_hatLogisticRegressionCV))\n",
    "\n",
    "conf_mat = confusion_matrix(y_test, y_hatLogisticRegressionCV)\n",
    "\n",
    "print(\"Confusion Matrix\")\n",
    "displayConfusionMatrix(conf_mat, \"Logistic regression with count vector\\n\")"
   ]
  },
  {
   "cell_type": "code",
   "execution_count": 441,
   "id": "807bfba0",
   "metadata": {},
   "outputs": [
    {
     "name": "stdout",
     "output_type": "stream",
     "text": [
      "Balanced Accuracy score: 0.7406617256764277\n",
      "Mathews Coefficient: 0.5596710846367481\n"
     ]
    },
    {
     "data": {
      "text/plain": [
       "0.9391613009740796"
      ]
     },
     "execution_count": 441,
     "metadata": {},
     "output_type": "execute_result"
    }
   ],
   "source": [
    "print(\n",
    "    \"Balanced Accuracy score:\",\n",
    "    balanced_accuracy_score(y_test[\"sentiment\"], y_hatLogisticRegressionCV))\n",
    "\n",
    "print(\"Mathews Coefficient:\",\n",
    "      matthews_corrcoef(y_test[\"sentiment\"], y_hatLogisticRegressionCV))\n",
    "\n",
    "recall_score(y_hatLogisticRegressionCV, y_test[\"sentiment\"])"
   ]
  },
  {
   "cell_type": "markdown",
   "id": "ebd5a20c",
   "metadata": {},
   "source": [
    "## Multinomial Naiye Bayes with Count vector"
   ]
  },
  {
   "cell_type": "code",
   "execution_count": 326,
   "id": "2f68234f",
   "metadata": {},
   "outputs": [
    {
     "data": {
      "text/plain": [
       "GridSearchCV(cv=10,\n",
       "             estimator=Pipeline(steps=[('vect', CountVectorizer()),\n",
       "                                       ('clf', MultinomialNB())]),\n",
       "             n_jobs=-1,\n",
       "             param_grid={'clf__alpha': (0.25, 0.5, 0.75),\n",
       "                         'vect__max_df': (0.25, 0.5, 0.75),\n",
       "                         'vect__min_df': (0.25, 0.5, 0.75),\n",
       "                         'vect__ngram_range': ((1, 1), (1, 2), (2, 2))},\n",
       "             scoring='f1_macro')"
      ]
     },
     "execution_count": 326,
     "metadata": {},
     "output_type": "execute_result"
    }
   ],
   "source": [
    "countVector = CountVectorizer()\n",
    "multinomialNB = MultinomialNB()\n",
    "\n",
    "pipeline = Pipeline([('vect', countVector), ('clf', multinomialNB)])\n",
    "\n",
    "paramGrid = {\n",
    "    'clf__alpha': (0.25, 0.5, 0.75),\n",
    "    'vect__ngram_range': ((1, 1), (1, 2), (2, 2)),\n",
    "    'vect__max_df': (0.25, 0.5, 0.75),\n",
    "    'vect__min_df': (0.25, 0.5, 0.75)\n",
    "}\n",
    "\n",
    "gridSearchCVMultiNBCountVector = GridSearchCV(pipeline,\n",
    "                                              paramGrid,\n",
    "                                              n_jobs=-1,\n",
    "                                              cv=10,\n",
    "                                              scoring=\"f1_macro\")\n",
    "\n",
    "gridSearchCVMultiNBCountVector.fit(X_trainString, y_train)"
   ]
  },
  {
   "cell_type": "code",
   "execution_count": 327,
   "id": "1cc73ecf",
   "metadata": {},
   "outputs": [
    {
     "name": "stdout",
     "output_type": "stream",
     "text": [
      "F1-score\n",
      ": 0.4773841574360606\n",
      "              precision    recall  f1-score   support\n",
      "\n",
      "           0       0.20      0.01      0.02      1497\n",
      "           1       0.89      1.00      0.94     11685\n",
      "\n",
      "    accuracy                           0.88     13182\n",
      "   macro avg       0.54      0.50      0.48     13182\n",
      "weighted avg       0.81      0.88      0.83     13182\n",
      "\n"
     ]
    },
    {
     "data": {
      "image/png": "[encoded data removed]",
      "text/plain": [
       "<Figure size 432x288 with 2 Axes>"
      ]
     },
     "metadata": {},
     "output_type": "display_data"
    }
   ],
   "source": [
    "#Estimating the model\n",
    "naiveBayesCountVectorModel = gridSearchCVMultiNBCountVector.best_estimator_\n",
    "\n",
    "y_hatNaiveBayesCountVector = naiveBayesCountVectorModel.predict(X_testString)\n",
    "\n",
    "precesion, recall, fscoreNBCV, support = precision_recall_fscore_support(\n",
    "    y_hatNaiveBayesCountVector, y_test, average=\"macro\")\n",
    "\n",
    "print(\"F1-score\\n:\", fscoreNBCV)\n",
    "\n",
    "print(classification_report(y_test, y_hatNaiveBayesCountVector))\n",
    "\n",
    "conf_mat_nb_cv = confusion_matrix(y_test, y_hatNaiveBayesCountVector)\n",
    "\n",
    "displayConfusionMatrix(conf_mat_nb_cv, \"Multinomial NB with Count Vector\")"
   ]
  },
  {
   "cell_type": "code",
   "execution_count": 442,
   "id": "2b136a7b",
   "metadata": {},
   "outputs": [
    {
     "name": "stdout",
     "output_type": "stream",
     "text": [
      "Balanced Accuracy score: 0.5021597323873249\n",
      "Mathews Coefficient: 0.01971657135962158\n"
     ]
    },
    {
     "data": {
      "text/plain": [
       "0.8868729989327642"
      ]
     },
     "execution_count": 442,
     "metadata": {},
     "output_type": "execute_result"
    }
   ],
   "source": [
    "print(\n",
    "    \"Balanced Accuracy score:\",\n",
    "    balanced_accuracy_score(y_test[\"sentiment\"], y_hatNaiveBayesCountVector))\n",
    "\n",
    "print(\"Mathews Coefficient:\",\n",
    "      matthews_corrcoef(y_test[\"sentiment\"], y_hatNaiveBayesCountVector))\n",
    "\n",
    "recall_score(y_hatNaiveBayesCountVector, y_test[\"sentiment\"])"
   ]
  },
  {
   "cell_type": "markdown",
   "id": "6515f4df",
   "metadata": {},
   "source": [
    "## Random Forest with Count Vector"
   ]
  },
  {
   "cell_type": "code",
   "execution_count": 330,
   "id": "14a5411e",
   "metadata": {},
   "outputs": [
    {
     "data": {
      "text/plain": [
       "GridSearchCV(cv=3,\n",
       "             estimator=Pipeline(steps=[('vect', CountVectorizer()),\n",
       "                                       ('clf',\n",
       "                                        RandomForestClassifier(random_state=7))]),\n",
       "             n_jobs=-1,\n",
       "             param_grid={'clf__max_depth': [15, 30, 50],\n",
       "                         'clf__n_estimators': [20, 100, 150],\n",
       "                         'vect__max_df': (0.25, 0.5, 0.75),\n",
       "                         'vect__min_df': (0.25, 0.5, 0.75),\n",
       "                         'vect__ngram_range': ((1, 1), (1, 2), (2, 2))},\n",
       "             scoring='f1_macro')"
      ]
     },
     "execution_count": 330,
     "metadata": {},
     "output_type": "execute_result"
    }
   ],
   "source": [
    "countVector = CountVectorizer()\n",
    "randomForestClassifier = RandomForestClassifier(random_state=7)\n",
    "\n",
    "pipeline = Pipeline([('vect', countVector), ('clf', randomForestClassifier)])\n",
    "\n",
    "paramGrid = {\n",
    "    'clf__n_estimators': [20, 100, 150],\n",
    "    'clf__max_depth': [15, 30, 50],\n",
    "    'vect__ngram_range': ((1, 1), (1, 2), (2, 2)),\n",
    "    'vect__max_df': (0.25, 0.5, 0.75),\n",
    "    'vect__min_df': (0.25, 0.5, 0.75)\n",
    "}\n",
    "\n",
    "gridSearchCVRandomForestCountVector = GridSearchCV(pipeline,\n",
    "                                                   paramGrid,\n",
    "                                                   n_jobs=-1,\n",
    "                                                   cv=3,\n",
    "                                                   scoring=\"f1_macro\")\n",
    "\n",
    "gridSearchCVRandomForestCountVector.fit(X_trainString, y_train)"
   ]
  },
  {
   "cell_type": "code",
   "execution_count": 331,
   "id": "8cb5c6d5",
   "metadata": {},
   "outputs": [
    {
     "name": "stdout",
     "output_type": "stream",
     "text": [
      "F1 score: 0.4718555309194368\n",
      "              precision    recall  f1-score   support\n",
      "\n",
      "           0       0.11      0.00      0.01      1497\n",
      "           1       0.89      1.00      0.94     11685\n",
      "\n",
      "    accuracy                           0.88     13182\n",
      "   macro avg       0.50      0.50      0.47     13182\n",
      "weighted avg       0.80      0.88      0.83     13182\n",
      "\n"
     ]
    },
    {
     "data": {
      "image/png": "[encoded data removed]",
      "text/plain": [
       "<Figure size 432x288 with 2 Axes>"
      ]
     },
     "metadata": {},
     "output_type": "display_data"
    }
   ],
   "source": [
    "randomForestCountVectorModel = gridSearchCVRandomForestCountVector.best_estimator_\n",
    "\n",
    "y_hatRandomForestCountVector = randomForestCountVectorModel.predict(X_testString)\n",
    "\n",
    "precesion, recall, fscoreRFCV, support = precision_recall_fscore_support(\n",
    "    y_hatRandomForestCountVector, y_test, average=\"macro\")\n",
    "\n",
    "print(\"F1 score:\", fscoreRFCV)\n",
    "\n",
    "print(classification_report(y_test, y_hatRandomForestCountVector))\n",
    "\n",
    "conf_mat_rf_cv = confusion_matrix(y_test, y_hatRandomForestCountVector)\n",
    "\n",
    "displayConfusionMatrix(conf_mat_rf_cv, \"Confusion Matrix Random Forest with Count Vector\")"
   ]
  },
  {
   "cell_type": "code",
   "execution_count": 443,
   "id": "cf0d4b0e",
   "metadata": {},
   "outputs": [
    {
     "name": "stdout",
     "output_type": "stream",
     "text": [
      "Balanced Accuracy score: 0.4998811486901917\n",
      "Mathews Coefficient: -0.001406707014105792\n"
     ]
    },
    {
     "data": {
      "text/plain": [
       "0.8864120511259891"
      ]
     },
     "execution_count": 443,
     "metadata": {},
     "output_type": "execute_result"
    }
   ],
   "source": [
    "print(\n",
    "    \"Balanced Accuracy score:\",\n",
    "    balanced_accuracy_score(y_test[\"sentiment\"], y_hatRandomForestCountVector))\n",
    "\n",
    "print(\"Mathews Coefficient:\",\n",
    "      matthews_corrcoef(y_test[\"sentiment\"], y_hatRandomForestCountVector))\n",
    "\n",
    "recall_score(y_hatRandomForestCountVector, y_test[\"sentiment\"])"
   ]
  },
  {
   "cell_type": "code",
   "execution_count": 333,
   "id": "fed7d503",
   "metadata": {},
   "outputs": [
    {
     "data": {
      "text/plain": [
       "(52725, 2)"
      ]
     },
     "execution_count": 333,
     "metadata": {},
     "output_type": "execute_result"
    }
   ],
   "source": [
    "dataFrameSplitTestTrainCombined = pd.concat([X_train, X_test])\n",
    "\n",
    "dataFrameSplitTestTrainCombined.head()\n",
    "\n",
    "dataFrameSplitTestTrainCombined.shape"
   ]
  },
  {
   "cell_type": "code",
   "execution_count": 334,
   "id": "bf619a6e",
   "metadata": {},
   "outputs": [],
   "source": [
    "X_train = X_train.reset_index()\n",
    "X_test = X_test.reset_index()\n",
    "y_train = y_train.to_frame()\n",
    "y_train = y_train.reset_index()\n",
    "y_test = y_test.to_frame()\n",
    "y_test = y_test.reset_index()"
   ]
  },
  {
   "cell_type": "markdown",
   "id": "332ce582",
   "metadata": {},
   "source": [
    "### Word2Vec"
   ]
  },
  {
   "cell_type": "code",
   "execution_count": 368,
   "id": "133e0147",
   "metadata": {},
   "outputs": [
    {
     "name": "stdout",
     "output_type": "stream",
     "text": [
      "Time taken to train word2vec model: 14.667675256729126\n"
     ]
    }
   ],
   "source": [
    "size = 1000\n",
    "window = 3\n",
    "min_count = 1\n",
    "workers = 3\n",
    "sg = 1\n",
    "\n",
    "type(X_train)\n",
    "\n",
    "word2vec_model_file = '/Users/rakshith/Downloads/word2vec' + '.model'\n",
    "start_time = time.time()\n",
    "stemmed_tokens = pd.Series(dataFrameSplitTestTrainCombined['review']).values\n",
    "# Train the Word2Vec Model\n",
    "\n",
    "w2v_model = gensim.models.Word2Vec(stemmed_tokens,\n",
    "                                   min_count=1,\n",
    "                                   vector_size=1000,\n",
    "                                   window=window,\n",
    "                                   workers=workers)\n",
    "\n",
    "gensim.models.Word2Vec()\n",
    "print(\"Time taken to train word2vec model: \" + str(time.time() - start_time))\n",
    "w2v_model.save(word2vec_model_file)"
   ]
  },
  {
   "cell_type": "code",
   "execution_count": 369,
   "id": "f834eaf8",
   "metadata": {},
   "outputs": [],
   "source": [
    "sg_w2v_model = Word2Vec.load(word2vec_model_file)"
   ]
  },
  {
   "cell_type": "code",
   "execution_count": 370,
   "id": "6ef85cf0",
   "metadata": {},
   "outputs": [],
   "source": [
    "word2vec_filename = '/Users/rakshith/Downloads/' + 'train_review_word2vec.csv'\n",
    "with open(word2vec_filename, 'w+') as word2vec_file:\n",
    "    for index, row in X_train.iterrows():\n",
    "        model_vector = (np.mean([sg_w2v_model.wv[token] for token in row[\"review\"]], axis=0)).tolist()\n",
    "        if index == 0:\n",
    "            header = \",\".join(str(ele) for ele in range(1000))\n",
    "            word2vec_file.write(header)\n",
    "            word2vec_file.write(\"\\n\")\n",
    "        # Check if the line exists else it is vector of zeros\n",
    "        if type(model_vector) is list:  \n",
    "            line1 = \",\".join( [str(vector_element) for vector_element in model_vector] )\n",
    "        else:\n",
    "            line1 = \",\".join([str(0) for i in range(1000)])\n",
    "        word2vec_file.write(line1)\n",
    "        word2vec_file.write('\\n')"
   ]
  },
  {
   "cell_type": "code",
   "execution_count": 371,
   "id": "f18c6e2c",
   "metadata": {},
   "outputs": [
    {
     "name": "stdout",
     "output_type": "stream",
     "text": [
      "Time taken to fit the model with word2vec vectors: 257.21646904945374\n"
     ]
    }
   ],
   "source": [
    "word2vec_df = pd.read_csv(word2vec_filename)\n",
    "\n",
    "\n",
    "clf_decision_word2vec = RandomForestClassifier()\n",
    "\n",
    "start_time = time.time()\n",
    "\n",
    "clf_decision_word2vec.fit(word2vec_df, y_train[\"sentiment\"])\n",
    "\n",
    "print(\"Time taken to fit the model with word2vec vectors: \" + str(time.time() - start_time))"
   ]
  },
  {
   "cell_type": "code",
   "execution_count": 372,
   "id": "9a4ef50a",
   "metadata": {},
   "outputs": [
    {
     "name": "stdout",
     "output_type": "stream",
     "text": [
      "              precision    recall  f1-score   support\n",
      "\n",
      "           0       0.11      1.00      0.20      1497\n",
      "           1       0.00      0.00      0.00     11685\n",
      "\n",
      "    accuracy                           0.11     13182\n",
      "   macro avg       0.06      0.50      0.10     13182\n",
      "weighted avg       0.01      0.11      0.02     13182\n",
      "\n"
     ]
    }
   ],
   "source": [
    "test_features_word2vec = []\n",
    "for index, row in X_test.iterrows():\n",
    "    model_vector = np.mean([sg_w2v_model.wv[token] for token in row[\"review\"]], axis=0)\n",
    "    if type(model_vector) is list:\n",
    "        test_features_word2vec.append(model_vector)\n",
    "    else:\n",
    "        test_features_word2vec.append(np.array([0 for i in range(1000)]))\n",
    "        \n",
    "test_predictions_word2vec = clf_decision_word2vec.predict(test_features_word2vec)\n",
    "\n",
    "print(classification_report(y_test[\"sentiment\"],test_predictions_word2vec))"
   ]
  },
  {
   "cell_type": "code",
   "execution_count": 447,
   "id": "2f75bfe1",
   "metadata": {},
   "outputs": [],
   "source": [
    "embeddingsSize=128\n",
    "\n",
    "model=gensim.models.Word2Vec(X_trainTokens, vector_size=embeddingsSize, window=5, min_count=1, workers=4)"
   ]
  },
  {
   "cell_type": "code",
   "execution_count": 448,
   "id": "a413f047",
   "metadata": {},
   "outputs": [],
   "source": [
    "def getVectors(dataset):\n",
    "    singleDataItemEmbedding = np.zeros(embeddingsSize)\n",
    "    vectors = []\n",
    "    for dataItem in dataset:\n",
    "        wordCount = 0\n",
    "        for word in dataItem:\n",
    "            if word in model.wv.key_to_index:\n",
    "                singleDataItemEmbedding = singleDataItemEmbedding + model.wv[\n",
    "                    word]\n",
    "                wordCount = wordCount + 1\n",
    "\n",
    "        singleDataItemEmbedding = singleDataItemEmbedding / wordCount\n",
    "        vectors.append(singleDataItemEmbedding)\n",
    "    return vectors\n",
    "\n",
    "trainReviewVectors=getVectors(X_trainTokens)\n",
    "testReviewVectors = getVectors(X_testTokens)"
   ]
  },
  {
   "cell_type": "markdown",
   "id": "a3344144",
   "metadata": {},
   "source": [
    "## Random Forest with Word2Vec"
   ]
  },
  {
   "cell_type": "code",
   "execution_count": 449,
   "id": "5e5647f1",
   "metadata": {},
   "outputs": [
    {
     "name": "stdout",
     "output_type": "stream",
     "text": [
      "####################RESULTS OF Random Forest CLASSIFIER##################\n",
      "F1 score: 0.5819465780866541\n",
      "              precision    recall  f1-score   support\n",
      "\n",
      "           0       0.71      0.13      0.22      1497\n",
      "           1       0.90      0.99      0.94     11685\n",
      "\n",
      "    accuracy                           0.90     13182\n",
      "   macro avg       0.80      0.56      0.58     13182\n",
      "weighted avg       0.88      0.90      0.86     13182\n",
      "\n"
     ]
    }
   ],
   "source": [
    "clfRF = RandomForestClassifier(n_estimators = 100)\n",
    "# Train the model on training data\n",
    "clfRF.fit(trainReviewVectors, y_train[\"sentiment\"]);\n",
    "\n",
    "testLabelsPredicted=list(clfRF.predict(testReviewVectors))\n",
    "\n",
    "#print results\n",
    "print(\"####################RESULTS OF Random Forest CLASSIFIER##################\")\n",
    "\n",
    "precesion, recall, fscoreWordVec, support = precision_recall_fscore_support(\n",
    "    testLabelsPredicted, y_test[\"sentiment\"], average=\"macro\")\n",
    "\n",
    "print(\"F1 score:\", fscoreWordVec)\n",
    "\n",
    "print(classification_report(y_test[\"sentiment\"], testLabelsPredicted))"
   ]
  },
  {
   "cell_type": "code",
   "execution_count": 450,
   "id": "4d0b6954",
   "metadata": {},
   "outputs": [
    {
     "data": {
      "image/png": "[encoded data removed]",
      "text/plain": [
       "<Figure size 432x288 with 2 Axes>"
      ]
     },
     "metadata": {},
     "output_type": "display_data"
    }
   ],
   "source": [
    "conf_mat_rf_w2v = confusion_matrix(y_test[\"sentiment\"], testLabelsPredicted)\n",
    "\n",
    "displayConfusionMatrix(conf_mat_rf_w2v, \"Confusion Matrix Random Forest with Word2Vec\")"
   ]
  },
  {
   "cell_type": "code",
   "execution_count": 460,
   "id": "0c26a706",
   "metadata": {},
   "outputs": [
    {
     "name": "stdout",
     "output_type": "stream",
     "text": [
      "Balanced Accuracy score: 0.561707068394384\n",
      "Mathews Coefficient: 0.27397514567052084\n"
     ]
    },
    {
     "data": {
      "text/plain": [
       "0.899124506081971"
      ]
     },
     "execution_count": 460,
     "metadata": {},
     "output_type": "execute_result"
    }
   ],
   "source": [
    "print(\n",
    "    \"Balanced Accuracy score:\",\n",
    "    balanced_accuracy_score(y_test[\"sentiment\"], testLabelsPredicted))\n",
    "\n",
    "print(\"Mathews Coefficient:\",\n",
    "      matthews_corrcoef(y_test[\"sentiment\"], testLabelsPredicted))\n",
    "\n",
    "recall_score(testLabelsPredicted, y_test[\"sentiment\"])"
   ]
  },
  {
   "cell_type": "markdown",
   "id": "9a5e5b10",
   "metadata": {},
   "source": [
    "## Logistic Regression with Word2Vec"
   ]
  },
  {
   "cell_type": "code",
   "execution_count": 451,
   "id": "5c7a9776",
   "metadata": {},
   "outputs": [
    {
     "name": "stdout",
     "output_type": "stream",
     "text": [
      "####################RESULTS OF Logistic Regression CLASSIFIER##################\n",
      "F1 score: 0.6299536284061541\n",
      "              precision    recall  f1-score   support\n",
      "\n",
      "           0       0.66      0.21      0.31      1497\n",
      "           1       0.91      0.99      0.94     11685\n",
      "\n",
      "    accuracy                           0.90     13182\n",
      "   macro avg       0.79      0.60      0.63     13182\n",
      "weighted avg       0.88      0.90      0.87     13182\n",
      "\n"
     ]
    }
   ],
   "source": [
    "logisticReg = LogisticRegression()\n",
    "# Train the model on training data\n",
    "logisticReg.fit(trainReviewVectors, y_train[\"sentiment\"]);\n",
    "\n",
    "testLabelsPredictedLogisticRegression=list(logisticReg.predict(testReviewVectors))\n",
    "\n",
    "#print results\n",
    "print(\"####################RESULTS OF Logistic Regression CLASSIFIER##################\")\n",
    "\n",
    "precesion, recall, fscoreWordVecLogisticReg, support = precision_recall_fscore_support(\n",
    "    testLabelsPredictedLogisticRegression, y_test[\"sentiment\"], average=\"macro\")\n",
    "\n",
    "print(\"F1 score:\", fscoreWordVecLogisticReg)\n",
    "\n",
    "print(classification_report(y_test[\"sentiment\"], testLabelsPredictedLogisticRegression))"
   ]
  },
  {
   "cell_type": "code",
   "execution_count": 490,
   "id": "9194f963",
   "metadata": {},
   "outputs": [
    {
     "data": {
      "image/png": "[encoded data removed]",
      "text/plain": [
       "<Figure size 432x288 with 2 Axes>"
      ]
     },
     "metadata": {},
     "output_type": "display_data"
    }
   ],
   "source": [
    "conf_mat_lr_w2v = confusion_matrix(y_test[\"sentiment\"], testLabelsPredictedLogisticRegression)\n",
    "\n",
    "displayConfusionMatrix(conf_mat_lr_w2v, \"Confusion Matrix Logistic Regression with Word2Vec\")"
   ]
  },
  {
   "cell_type": "code",
   "execution_count": 461,
   "id": "aabeb337",
   "metadata": {},
   "outputs": [
    {
     "name": "stdout",
     "output_type": "stream",
     "text": [
      "Balanced Accuracy score: 0.596531188178668\n",
      "Mathews Coefficient: 0.33205046591825743\n"
     ]
    },
    {
     "data": {
      "text/plain": [
       "0.9065817409766455"
      ]
     },
     "execution_count": 461,
     "metadata": {},
     "output_type": "execute_result"
    }
   ],
   "source": [
    "print(\n",
    "    \"Balanced Accuracy score:\",\n",
    "    balanced_accuracy_score(y_test[\"sentiment\"], testLabelsPredictedLogisticRegression))\n",
    "\n",
    "print(\"Mathews Coefficient:\",\n",
    "      matthews_corrcoef(y_test[\"sentiment\"], testLabelsPredictedLogisticRegression))\n",
    "\n",
    "recall_score(testLabelsPredictedLogisticRegression, y_test[\"sentiment\"])"
   ]
  },
  {
   "cell_type": "markdown",
   "id": "93c89689",
   "metadata": {},
   "source": [
    "## Multinomial Naive Bayes with Word2Vec"
   ]
  },
  {
   "cell_type": "code",
   "execution_count": 456,
   "id": "3b3118dc",
   "metadata": {},
   "outputs": [
    {
     "name": "stdout",
     "output_type": "stream",
     "text": [
      "F1 score: 0.4705863213204619\n",
      "####################RESULTS OF NAIVE BAYES CLASSIFIER##################\n",
      "              precision    recall  f1-score   support\n",
      "\n",
      "           0       1.00      0.00      0.00      1497\n",
      "           1       0.89      1.00      0.94     11685\n",
      "\n",
      "    accuracy                           0.89     13182\n",
      "   macro avg       0.94      0.50      0.47     13182\n",
      "weighted avg       0.90      0.89      0.83     13182\n",
      "\n"
     ]
    }
   ],
   "source": [
    "clfNB = MultinomialNB()\n",
    "\n",
    "scaler = MinMaxScaler()\n",
    "scaledTrainX= scaler.fit_transform(trainReviewVectors)\n",
    "scaledTestX = scaler.fit_transform(testReviewVectors)\n",
    "clfNB.fit(scaledTrainX, y_train[\"sentiment\"])\n",
    "\n",
    "#test naive bayes accuracy\n",
    "testLabelsPredictedNaiveBayes=list(clfNB.predict(scaledTestX))\n",
    "\n",
    "precesion, recall, fscoreWordVecNB, support = precision_recall_fscore_support(\n",
    "    testLabelsPredictedNaiveBayes, y_test[\"sentiment\"], average=\"macro\")\n",
    "\n",
    "print(\"F1 score:\", fscoreWordVecNB)\n",
    "\n",
    "#print results\n",
    "print(\"####################RESULTS OF NAIVE BAYES CLASSIFIER##################\")\n",
    "print(classification_report(y_test[\"sentiment\"], testLabelsPredictedNaiveBayes))"
   ]
  },
  {
   "cell_type": "code",
   "execution_count": 457,
   "id": "e80a0f67",
   "metadata": {},
   "outputs": [
    {
     "data": {
      "image/png": "[encoded data removed]",
      "text/plain": [
       "<Figure size 432x288 with 2 Axes>"
      ]
     },
     "metadata": {},
     "output_type": "display_data"
    }
   ],
   "source": [
    "conf_mat_rf_w2v = confusion_matrix(y_test[\"sentiment\"], testLabelsPredictedNaiveBayes)\n",
    "\n",
    "displayConfusionMatrix(conf_mat_rf_w2v, \"Confusion Matrix Naive Bayes with Word2Vec\")"
   ]
  },
  {
   "cell_type": "code",
   "execution_count": 462,
   "id": "5bd7385c",
   "metadata": {},
   "outputs": [
    {
     "name": "stdout",
     "output_type": "stream",
     "text": [
      "Balanced Accuracy score: 0.5003340013360054\n",
      "Mathews Coefficient: 0.024334883876507948\n"
     ]
    },
    {
     "data": {
      "text/plain": [
       "0.8865033002048402"
      ]
     },
     "execution_count": 462,
     "metadata": {},
     "output_type": "execute_result"
    }
   ],
   "source": [
    "print(\n",
    "    \"Balanced Accuracy score:\",\n",
    "    balanced_accuracy_score(y_test[\"sentiment\"], testLabelsPredictedNaiveBayes))\n",
    "\n",
    "print(\"Mathews Coefficient:\",\n",
    "      matthews_corrcoef(y_test[\"sentiment\"], testLabelsPredictedNaiveBayes))\n",
    "\n",
    "recall_score(testLabelsPredictedNaiveBayes, y_test[\"sentiment\"])"
   ]
  },
  {
   "cell_type": "markdown",
   "id": "30cab5db",
   "metadata": {},
   "source": [
    "### SMOTE"
   ]
  },
  {
   "cell_type": "markdown",
   "id": "29d04a85",
   "metadata": {},
   "source": [
    "## Multinomial Naive Bayes with Tfidf"
   ]
  },
  {
   "cell_type": "code",
   "execution_count": 470,
   "id": "ac9c1b78",
   "metadata": {},
   "outputs": [],
   "source": [
    "smote = SMOTE(sampling_strategy=\"minority\", n_jobs=-1)\n",
    "\n",
    "nb_pipe2 = PipelineImblearn([('tfidf', TfidfVectorizer()), ('sampler', smote),\n",
    "                             ('model', MultinomialNB())])\n",
    "\n",
    "\n",
    "def evaluate_model(\n",
    "    X_train: pd.DataFrame,\n",
    "    X_test: pd.DataFrame,\n",
    "    y_train: pd.DataFrame,\n",
    "    y_test: pd.DataFrame,\n",
    "    pipe: Pipeline,\n",
    ") -> None:\n",
    "\n",
    "    model = pipe.fit(X_train[\"review_lemmatised\"], y_train[\"sentiment\"])\n",
    "\n",
    "    pred = model.predict(X_test[\"review_lemmatised\"])\n",
    "\n",
    "    print(classification_report(y_test[\"sentiment\"], pred))\n",
    "\n",
    "    conf_mat = confusion_matrix(y_test[\"sentiment\"],\n",
    "                                       pred)\n",
    "\n",
    "    displayConfusionMatrix(conf_mat, \"\")\n",
    "\n",
    "    print(\"balanced_accuracy\",\n",
    "          balanced_accuracy_score(y_test[\"sentiment\"], pred))\n",
    "\n",
    "    print(\"Mathews Coefficient:\", matthews_corrcoef(y_test[\"sentiment\"], pred))"
   ]
  },
  {
   "cell_type": "code",
   "execution_count": 471,
   "id": "f52c254f",
   "metadata": {},
   "outputs": [],
   "source": [
    "from functools import partial\n",
    "\n",
    "evaluate_pipeline = partial(evaluate_model,\n",
    "                            X_train,\n",
    "                            X_test,\n",
    "                            y_train,\n",
    "                            y_test)"
   ]
  },
  {
   "cell_type": "code",
   "execution_count": 472,
   "id": "e1aa9736",
   "metadata": {},
   "outputs": [
    {
     "name": "stdout",
     "output_type": "stream",
     "text": [
      "              precision    recall  f1-score   support\n",
      "\n",
      "           0       0.36      0.59      0.45      1497\n",
      "           1       0.94      0.87      0.90     11685\n",
      "\n",
      "    accuracy                           0.84     13182\n",
      "   macro avg       0.65      0.73      0.68     13182\n",
      "weighted avg       0.88      0.84      0.85     13182\n",
      "\n"
     ]
    },
    {
     "data": {
      "image/png": "[encoded data removed]",
      "text/plain": [
       "<Figure size 432x288 with 2 Axes>"
      ]
     },
     "metadata": {},
     "output_type": "display_data"
    },
    {
     "name": "stdout",
     "output_type": "stream",
     "text": [
      "balanced_accuracy 0.729523574320228\n",
      "Mathews Coefficient: 0.37566780071702177\n"
     ]
    }
   ],
   "source": [
    "evaluate_pipeline(nb_pipe2)"
   ]
  },
  {
   "cell_type": "markdown",
   "id": "3748a8cc",
   "metadata": {},
   "source": [
    "## Logistic Regression with Tf-idf"
   ]
  },
  {
   "cell_type": "code",
   "execution_count": 473,
   "id": "f5fa8838",
   "metadata": {},
   "outputs": [
    {
     "name": "stdout",
     "output_type": "stream",
     "text": [
      "              precision    recall  f1-score   support\n",
      "\n",
      "           0       0.46      0.77      0.58      1497\n",
      "           1       0.97      0.89      0.93     11685\n",
      "\n",
      "    accuracy                           0.87     13182\n",
      "   macro avg       0.72      0.83      0.75     13182\n",
      "weighted avg       0.91      0.87      0.89     13182\n",
      "\n"
     ]
    },
    {
     "data": {
      "image/png": "[encoded data removed]",
      "text/plain": [
       "<Figure size 432x288 with 2 Axes>"
      ]
     },
     "metadata": {},
     "output_type": "display_data"
    },
    {
     "name": "stdout",
     "output_type": "stream",
     "text": [
      "balanced_accuracy 0.8280301295787982\n",
      "Mathews Coefficient: 0.5327767796907938\n"
     ]
    }
   ],
   "source": [
    "nb_pipeLogisticRegression = PipelineImblearn([('tfidf', TfidfVectorizer()), ('sampler', smote),\n",
    "                             ('model', LogisticRegression())])\n",
    "\n",
    "evaluate_pipeline(nb_pipeLogisticRegression)"
   ]
  },
  {
   "cell_type": "markdown",
   "id": "27a4718b",
   "metadata": {},
   "source": [
    "## Random Forest with Tf-idf"
   ]
  },
  {
   "cell_type": "code",
   "execution_count": 476,
   "id": "7560412b",
   "metadata": {},
   "outputs": [
    {
     "name": "stdout",
     "output_type": "stream",
     "text": [
      "              precision    recall  f1-score   support\n",
      "\n",
      "           0       0.49      0.31      0.38      1497\n",
      "           1       0.92      0.96      0.94     11685\n",
      "\n",
      "    accuracy                           0.89     13182\n",
      "   macro avg       0.70      0.64      0.66     13182\n",
      "weighted avg       0.87      0.89      0.87     13182\n",
      "\n"
     ]
    },
    {
     "data": {
      "image/png": "[encoded data removed]",
      "text/plain": [
       "<Figure size 432x288 with 2 Axes>"
      ]
     },
     "metadata": {},
     "output_type": "display_data"
    },
    {
     "name": "stdout",
     "output_type": "stream",
     "text": [
      "balanced_accuracy 0.6364331572859026\n",
      "Mathews Coefficient: 0.3333319740315377\n"
     ]
    }
   ],
   "source": [
    "nb_pipeLogisticRegression = PipelineImblearn([\n",
    "    ('tfidf', TfidfVectorizer()), ('sampler', smote),\n",
    "    ('model', RandomForestClassifier(n_estimators=100))\n",
    "])\n",
    "\n",
    "evaluate_pipeline(nb_pipeLogisticRegression)"
   ]
  },
  {
   "cell_type": "markdown",
   "id": "57bad7a0",
   "metadata": {},
   "source": [
    "## Multinomial Naive Bayes with CountVector"
   ]
  },
  {
   "cell_type": "code",
   "execution_count": 477,
   "id": "a7df12f6",
   "metadata": {},
   "outputs": [
    {
     "name": "stdout",
     "output_type": "stream",
     "text": [
      "              precision    recall  f1-score   support\n",
      "\n",
      "           0       0.35      0.47      0.40      1497\n",
      "           1       0.93      0.89      0.91     11685\n",
      "\n",
      "    accuracy                           0.84     13182\n",
      "   macro avg       0.64      0.68      0.65     13182\n",
      "weighted avg       0.86      0.84      0.85     13182\n",
      "\n"
     ]
    },
    {
     "data": {
      "image/png": "[encoded data removed]",
      "text/plain": [
       "<Figure size 432x288 with 2 Axes>"
      ]
     },
     "metadata": {},
     "output_type": "display_data"
    },
    {
     "name": "stdout",
     "output_type": "stream",
     "text": [
      "balanced_accuracy 0.6779256416127077\n",
      "Mathews Coefficient: 0.31491022929689505\n"
     ]
    }
   ],
   "source": [
    "nb_pipeMultinomialNBCountVector = PipelineImblearn([\n",
    "    ('vect', CountVectorizer()), ('sampler', smote), ('model', MultinomialNB())\n",
    "])\n",
    "\n",
    "evaluate_pipeline(nb_pipeMultinomialNBCountVector)"
   ]
  },
  {
   "cell_type": "markdown",
   "id": "bd04ce0d",
   "metadata": {},
   "source": [
    "## Logistic Regression with CountVector"
   ]
  },
  {
   "cell_type": "code",
   "execution_count": 478,
   "id": "1793025a",
   "metadata": {},
   "outputs": [
    {
     "name": "stdout",
     "output_type": "stream",
     "text": [
      "              precision    recall  f1-score   support\n",
      "\n",
      "           0       0.47      0.62      0.53      1497\n",
      "           1       0.95      0.91      0.93     11685\n",
      "\n",
      "    accuracy                           0.88     13182\n",
      "   macro avg       0.71      0.76      0.73     13182\n",
      "weighted avg       0.89      0.88      0.88     13182\n",
      "\n"
     ]
    },
    {
     "data": {
      "image/png": "[encoded data removed]",
      "text/plain": [
       "<Figure size 432x288 with 2 Axes>"
      ]
     },
     "metadata": {},
     "output_type": "display_data"
    },
    {
     "name": "stdout",
     "output_type": "stream",
     "text": [
      "balanced_accuracy 0.7649465812240656\n",
      "Mathews Coefficient: 0.47146351056972563\n"
     ]
    }
   ],
   "source": [
    "nb_pipeLogisticRegressionCountVector = PipelineImblearn([\n",
    "    ('vect', CountVectorizer()), ('sampler', smote), ('model', LogisticRegression())\n",
    "])\n",
    "\n",
    "evaluate_pipeline(nb_pipeLogisticRegressionCountVector)"
   ]
  },
  {
   "cell_type": "markdown",
   "id": "76b7da3f",
   "metadata": {},
   "source": [
    "## Random Forest with CountVector"
   ]
  },
  {
   "cell_type": "code",
   "execution_count": 479,
   "id": "91079230",
   "metadata": {},
   "outputs": [
    {
     "name": "stdout",
     "output_type": "stream",
     "text": [
      "              precision    recall  f1-score   support\n",
      "\n",
      "           0       0.40      0.34      0.37      1497\n",
      "           1       0.92      0.94      0.93     11685\n",
      "\n",
      "    accuracy                           0.87     13182\n",
      "   macro avg       0.66      0.64      0.65     13182\n",
      "weighted avg       0.86      0.87      0.86     13182\n",
      "\n"
     ]
    },
    {
     "data": {
      "image/png": "[encoded data removed]",
      "text/plain": [
       "<Figure size 432x288 with 2 Axes>"
      ]
     },
     "metadata": {},
     "output_type": "display_data"
    },
    {
     "name": "stdout",
     "output_type": "stream",
     "text": [
      "balanced_accuracy 0.6380343056673896\n",
      "Mathews Coefficient: 0.297381232320594\n"
     ]
    }
   ],
   "source": [
    "nb_pipeRandomForestCountVector = PipelineImblearn([\n",
    "    ('vect', CountVectorizer()), ('sampler', smote),\n",
    "    ('model', RandomForestClassifier(n_estimators=100))\n",
    "])\n",
    "\n",
    "evaluate_pipeline(nb_pipeRandomForestCountVector)"
   ]
  },
  {
   "cell_type": "markdown",
   "id": "5768600b",
   "metadata": {},
   "source": [
    "## Random Forest with Word2Vec"
   ]
  },
  {
   "cell_type": "code",
   "execution_count": 480,
   "id": "a1195f95",
   "metadata": {},
   "outputs": [],
   "source": [
    "#X_trainSampled, y_trainSampled = smote.fit_resample(X_train, y_train)\n",
    "\n",
    "X_trainSampledWord2Vec, y_trainSampled = smote.fit_resample(\n",
    "    trainReviewVectors, y_train[\"sentiment\"])"
   ]
  },
  {
   "cell_type": "code",
   "execution_count": 487,
   "id": "9e8f5284",
   "metadata": {},
   "outputs": [
    {
     "name": "stdout",
     "output_type": "stream",
     "text": [
      "####################RESULTS OF Random Forest CLASSIFIER##################\n",
      "F1 score: 0.6610796595394576\n",
      "              precision    recall  f1-score   support\n",
      "\n",
      "           0       0.39      0.41      0.40      1497\n",
      "           1       0.92      0.92      0.92     11685\n",
      "\n",
      "    accuracy                           0.86     13182\n",
      "   macro avg       0.66      0.67      0.66     13182\n",
      "weighted avg       0.86      0.86      0.86     13182\n",
      "\n"
     ]
    }
   ],
   "source": [
    "clfRFSmote = RandomForestClassifier(n_estimators = 100)\n",
    "# Train the model on training data\n",
    "clfRFSmote.fit(X_trainSampledWord2Vec, y_trainSampled);\n",
    "\n",
    "testLabelsPredictedRFSmote =list(clfRFSmote.predict(testReviewVectors))\n",
    "\n",
    "#print results\n",
    "print(\"####################RESULTS OF Random Forest CLASSIFIER##################\")\n",
    "\n",
    "precesion, recall, fscoreRFWordVec, support = precision_recall_fscore_support(\n",
    "    testLabelsPredictedRFSmote, y_test[\"sentiment\"], average=\"macro\")\n",
    "\n",
    "print(\"F1 score:\", fscoreRFWordVec)\n",
    "\n",
    "print(classification_report(y_test[\"sentiment\"], testLabelsPredictedRFSmote))"
   ]
  },
  {
   "cell_type": "code",
   "execution_count": 489,
   "id": "312becae",
   "metadata": {},
   "outputs": [
    {
     "data": {
      "image/png": "[encoded data removed]",
      "text/plain": [
       "<Figure size 432x288 with 2 Axes>"
      ]
     },
     "metadata": {},
     "output_type": "display_data"
    },
    {
     "name": "stdout",
     "output_type": "stream",
     "text": [
      "Balanced Accuracy score: 0.6655318338860005\n",
      "Mathews Coefficient: 0.32243430215254965\n"
     ]
    },
    {
     "data": {
      "text/plain": [
       "0.9243378483306013"
      ]
     },
     "execution_count": 489,
     "metadata": {},
     "output_type": "execute_result"
    }
   ],
   "source": [
    "conf_mat_rf_w2v_smote = confusion_matrix(y_test[\"sentiment\"], testLabelsPredictedRFSmote)\n",
    "\n",
    "displayConfusionMatrix(conf_mat_rf_w2v_smote, \"Confusion Matrix Random Forest with Word2Vec\")\n",
    "\n",
    "print(\n",
    "    \"Balanced Accuracy score:\",\n",
    "    balanced_accuracy_score(y_test[\"sentiment\"], testLabelsPredictedRFSmote))\n",
    "\n",
    "print(\"Mathews Coefficient:\",\n",
    "      matthews_corrcoef(y_test[\"sentiment\"], testLabelsPredictedRFSmote))\n"
   ]
  },
  {
   "cell_type": "markdown",
   "id": "81629c0b",
   "metadata": {},
   "source": [
    "## Logistic Regression with Word2Vec"
   ]
  },
  {
   "cell_type": "code",
   "execution_count": 491,
   "id": "b3da3dda",
   "metadata": {},
   "outputs": [
    {
     "name": "stdout",
     "output_type": "stream",
     "text": [
      "####################RESULTS OF Logistic Regression CLASSIFIER##################\n",
      "F1 score: 0.643686012650574\n",
      "              precision    recall  f1-score   support\n",
      "\n",
      "           0       0.30      0.77      0.43      1497\n",
      "           1       0.96      0.77      0.86     11685\n",
      "\n",
      "    accuracy                           0.77     13182\n",
      "   macro avg       0.63      0.77      0.64     13182\n",
      "weighted avg       0.89      0.77      0.81     13182\n",
      "\n"
     ]
    }
   ],
   "source": [
    "clfLRSmote = LogisticRegression()\n",
    "# Train the model on training data\n",
    "clfLRSmote.fit(X_trainSampledWord2Vec, y_trainSampled);\n",
    "\n",
    "testLabelsPredictedLogisticRegressionSmote =list(clfLRSmote.predict(testReviewVectors))\n",
    "\n",
    "#print results\n",
    "print(\"####################RESULTS OF Logistic Regression CLASSIFIER##################\")\n",
    "\n",
    "precesion, recall, fscoreLogisticRegWordVec, support = precision_recall_fscore_support(\n",
    "    testLabelsPredictedLogisticRegressionSmote, y_test[\"sentiment\"], average=\"macro\")\n",
    "\n",
    "print(\"F1 score:\", fscoreLogisticRegWordVec)\n",
    "\n",
    "print(classification_report(y_test[\"sentiment\"], testLabelsPredictedLogisticRegressionSmote))"
   ]
  },
  {
   "cell_type": "code",
   "execution_count": 493,
   "id": "22b5a3c3",
   "metadata": {},
   "outputs": [
    {
     "data": {
      "image/png": "[encoded data removed]",
      "text/plain": [
       "<Figure size 432x288 with 2 Axes>"
      ]
     },
     "metadata": {},
     "output_type": "display_data"
    },
    {
     "name": "stdout",
     "output_type": "stream",
     "text": [
      "Balanced Accuracy score: 0.7708640215818886\n",
      "Mathews Coefficient: 0.37776727409617017\n"
     ]
    }
   ],
   "source": [
    "conf_mat_lr_w2v_smote = confusion_matrix(y_test[\"sentiment\"], testLabelsPredictedLogisticRegressionSmote)\n",
    "\n",
    "displayConfusionMatrix(conf_mat_lr_w2v_smote, \"Confusion Matrix Logistic Regression with Word2Vec\")\n",
    "\n",
    "print(\n",
    "    \"Balanced Accuracy score:\",\n",
    "    balanced_accuracy_score(y_test[\"sentiment\"], testLabelsPredictedLogisticRegressionSmote))\n",
    "\n",
    "print(\"Mathews Coefficient:\",\n",
    "      matthews_corrcoef(y_test[\"sentiment\"], testLabelsPredictedLogisticRegressionSmote))\n"
   ]
  },
  {
   "cell_type": "markdown",
   "id": "f97e6d77",
   "metadata": {},
   "source": [
    "## Multinomial Naiye Bayes with Word2Vec"
   ]
  },
  {
   "cell_type": "code",
   "execution_count": 497,
   "id": "aa58c2de",
   "metadata": {},
   "outputs": [
    {
     "name": "stdout",
     "output_type": "stream",
     "text": [
      "####################RESULTS OF Multinomial Naibe Bayes CLASSIFIER##################\n",
      "F1 score: 0.551266339869281\n",
      "              precision    recall  f1-score   support\n",
      "\n",
      "           0       0.21      0.71      0.32      1497\n",
      "           1       0.95      0.66      0.78     11685\n",
      "\n",
      "    accuracy                           0.67     13182\n",
      "   macro avg       0.58      0.68      0.55     13182\n",
      "weighted avg       0.86      0.67      0.73     13182\n",
      "\n"
     ]
    }
   ],
   "source": [
    "clfNBSmote = MultinomialNB()\n",
    "scaler = MinMaxScaler()\n",
    "\n",
    "scaledTrainX= scaler.fit_transform(X_trainSampledWord2Vec)\n",
    "scaledTestX = scaler.fit_transform(testReviewVectors)\n",
    "\n",
    "# Train the model on training data\n",
    "clfNBSmote.fit(scaledTrainX, y_trainSampled);\n",
    "\n",
    "testLabelsPredictedNaiyeBayesSmote =list(clfNBSmote.predict(scaledTestX))\n",
    "\n",
    "#print results\n",
    "print(\"####################RESULTS OF Multinomial Naibe Bayes CLASSIFIER##################\")\n",
    "\n",
    "precesion, recall, fscoreNBWordVec, support = precision_recall_fscore_support(\n",
    "    testLabelsPredictedNaiyeBayesSmote, y_test[\"sentiment\"], average=\"macro\")\n",
    "\n",
    "print(\"F1 score:\", fscoreNBWordVec)\n",
    "\n",
    "print(classification_report(y_test[\"sentiment\"], testLabelsPredictedNaiyeBayesSmote))"
   ]
  },
  {
   "cell_type": "code",
   "execution_count": 498,
   "id": "1a2553ae",
   "metadata": {},
   "outputs": [
    {
     "data": {
      "image/png": "[encoded data removed]",
      "text/plain": [
       "<Figure size 432x288 with 2 Axes>"
      ]
     },
     "metadata": {},
     "output_type": "display_data"
    },
    {
     "name": "stdout",
     "output_type": "stream",
     "text": [
      "Balanced Accuracy score: 0.6841227169786728\n",
      "Mathews Coefficient: 0.24050827522362642\n"
     ]
    }
   ],
   "source": [
    "conf_mat_nb_w2v_smote = confusion_matrix(y_test[\"sentiment\"], testLabelsPredictedNaiyeBayesSmote)\n",
    "\n",
    "displayConfusionMatrix(conf_mat_nb_w2v_smote, \"Confusion Matrix Multinomial NB with Word2Vec\")\n",
    "\n",
    "print(\n",
    "    \"Balanced Accuracy score:\",\n",
    "    balanced_accuracy_score(y_test[\"sentiment\"], testLabelsPredictedNaiyeBayesSmote))\n",
    "\n",
    "print(\"Mathews Coefficient:\",\n",
    "      matthews_corrcoef(y_test[\"sentiment\"], testLabelsPredictedNaiyeBayesSmote))\n"
   ]
  }
 ],
 "metadata": {
  "kernelspec": {
   "display_name": "Python 3",
   "language": "python",
   "name": "python3"
  },
  "language_info": {
   "codemirror_mode": {
    "name": "ipython",
    "version": 3
   },
   "file_extension": ".py",
   "mimetype": "text/x-python",
   "name": "python",
   "nbconvert_exporter": "python",
   "pygments_lexer": "ipython3",
   "version": "3.8.8"
  }
 },
 "nbformat": 4,
 "nbformat_minor": 5
}
